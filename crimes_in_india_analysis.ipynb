{
  "cells": [
    {
      "cell_type": "code",
      "execution_count": null,
      "metadata": {
        "_cell_guid": "b1076dfc-b9ad-4769-8c92-a6c4dae69d19",
        "_uuid": "8f2839f25d086af736a60e9eeb907d3b93b6e0e5",
        "execution": {
          "iopub.execute_input": "2020-10-16T04:48:26.514649Z",
          "iopub.status.busy": "2020-10-16T04:48:26.513572Z",
          "iopub.status.idle": "2020-10-16T04:48:27.730153Z",
          "shell.execute_reply": "2020-10-16T04:48:27.729460Z"
        },
        "papermill": {
          "duration": 1.26394,
          "end_time": "2020-10-16T04:48:27.730303",
          "exception": false,
          "start_time": "2020-10-16T04:48:26.466363",
          "status": "completed"
        },
        "tags": [],
        "id": "LiIocoUsVGFC"
      },
      "outputs": [],
      "source": [
        "\n",
        "import pandas as pd \n",
        "import matplotlib.mlab as mlab \n",
        "%matplotlib inline\n",
        "import numpy as np # linear algebra\n",
        "import matplotlib.pyplot as plt\n",
        "import seaborn as sns\n",
        " # data processing, CSV file I/O (e.g. pd.read_csv)\n",
        "import plotly.express as px\n",
        "\n"
      ]
    },
    {
      "cell_type": "markdown",
      "metadata": {
        "papermill": {
          "duration": 0.037533,
          "end_time": "2020-10-16T04:48:27.808793",
          "exception": false,
          "start_time": "2020-10-16T04:48:27.771260",
          "status": "completed"
        },
        "tags": [],
        "id": "q8E_uH5BVGFI"
      },
      "source": [
        "RAPE CASES IN INDIA\n",
        "\n"
      ]
    },
    {
      "cell_type": "code",
      "execution_count": null,
      "metadata": {
        "_cell_guid": "79c7e3d0-c299-4dcb-8224-4455121ee9b0",
        "_uuid": "d629ff2d2480ee46fbb7e2d37f6b5fab8052498a",
        "execution": {
          "iopub.execute_input": "2020-10-16T04:48:27.892283Z",
          "iopub.status.busy": "2020-10-16T04:48:27.891418Z",
          "iopub.status.idle": "2020-10-16T04:48:27.938754Z",
          "shell.execute_reply": "2020-10-16T04:48:27.937964Z"
        },
        "papermill": {
          "duration": 0.090602,
          "end_time": "2020-10-16T04:48:27.938884",
          "exception": false,
          "start_time": "2020-10-16T04:48:27.848282",
          "status": "completed"
        },
        "tags": [],
        "colab": {
          "resources": {
            "http://localhost:8080/nbextensions/google.colab/files.js": {
              "data": "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",
              "ok": true,
              "headers": [
                [
                  "content-type",
                  "application/javascript"
                ]
              ],
              "status": 200,
              "status_text": ""
            }
          },
          "base_uri": "https://localhost:8080/",
          "height": 74
        },
        "id": "ZwONlcPUVGFK",
        "outputId": "b2552d44-3258-4d4a-f495-40f232c394e1"
      },
      "outputs": [
        {
          "output_type": "display_data",
          "data": {
            "text/plain": [
              "<IPython.core.display.HTML object>"
            ],
            "text/html": [
              "\n",
              "     <input type=\"file\" id=\"files-e999bffd-281e-466e-92fb-8957f566794b\" name=\"files[]\" multiple disabled\n",
              "        style=\"border:none\" />\n",
              "     <output id=\"result-e999bffd-281e-466e-92fb-8957f566794b\">\n",
              "      Upload widget is only available when the cell has been executed in the\n",
              "      current browser session. Please rerun this cell to enable.\n",
              "      </output>\n",
              "      <script src=\"/nbextensions/google.colab/files.js\"></script> "
            ]
          },
          "metadata": {}
        },
        {
          "output_type": "stream",
          "name": "stdout",
          "text": [
            "Saving state_crime.csv to state_crime (4).csv\n"
          ]
        }
      ],
      "source": [
        "from google.colab import files\n",
        "uploaded =files.upload()"
      ]
    },
    {
      "cell_type": "code",
      "source": [
        "df = pd.read_csv(\"state_crime.csv\")\n"
      ],
      "metadata": {
        "id": "sWyvHourVost"
      },
      "execution_count": null,
      "outputs": []
    },
    {
      "cell_type": "code",
      "source": [
        "df.head(10)"
      ],
      "metadata": {
        "colab": {
          "base_uri": "https://localhost:8080/",
          "height": 456
        },
        "id": "SXcQdBIbV8mp",
        "outputId": "764673d1-379a-47b8-8cf1-233bf866f91a"
      },
      "execution_count": null,
      "outputs": [
        {
          "output_type": "execute_result",
          "data": {
            "text/plain": [
              "     State  Year  Data.Population  Data.Rates.Property.All  \\\n",
              "0  Alabama  1960          3266740                   1035.4   \n",
              "1  Alabama  1961          3302000                    985.5   \n",
              "2  Alabama  1962          3358000                   1067.0   \n",
              "3  Alabama  1963          3347000                   1150.9   \n",
              "4  Alabama  1964          3407000                   1358.7   \n",
              "5  Alabama  1965          3462000                   1392.7   \n",
              "6  Alabama  1966          3517000                   1528.0   \n",
              "7  Alabama  1967          3540000                   1612.4   \n",
              "8  Alabama  1968          3566000                   1766.6   \n",
              "9  Alabama  1969          3531000                   1876.2   \n",
              "\n",
              "   Data.Rates.Property.Burglary  Data.Rates.Property.Larceny  \\\n",
              "0                         355.9                        592.1   \n",
              "1                         339.3                        569.4   \n",
              "2                         349.1                        634.5   \n",
              "3                         376.9                        683.4   \n",
              "4                         466.6                        784.1   \n",
              "5                         473.7                        812.1   \n",
              "6                         527.5                        869.6   \n",
              "7                         571.4                        895.0   \n",
              "8                         628.2                        967.7   \n",
              "9                         667.2                       1037.8   \n",
              "\n",
              "   Data.Rates.Property.Motor  Data.Rates.Violent.All  \\\n",
              "0                       87.3                   186.6   \n",
              "1                       76.8                   168.5   \n",
              "2                       83.4                   157.3   \n",
              "3                       90.6                   182.7   \n",
              "4                      108.0                   213.1   \n",
              "5                      106.9                   199.8   \n",
              "6                      131.0                   230.3   \n",
              "7                      146.0                   238.6   \n",
              "8                      170.7                   232.4   \n",
              "9                      171.2                   250.4   \n",
              "\n",
              "   Data.Rates.Violent.Assault  Data.Rates.Violent.Murder  ...  \\\n",
              "0                       138.1                       12.4  ...   \n",
              "1                       128.9                       12.9  ...   \n",
              "2                       119.0                        9.4  ...   \n",
              "3                       142.1                       10.2  ...   \n",
              "4                       163.0                        9.3  ...   \n",
              "5                       149.1                       11.4  ...   \n",
              "6                       177.7                       10.9  ...   \n",
              "7                       183.5                       11.7  ...   \n",
              "8                       168.5                       11.8  ...   \n",
              "9                       181.7                       13.7  ...   \n",
              "\n",
              "   Data.Rates.Violent.Robbery  Data.Totals.Property.All  \\\n",
              "0                        27.5                     33823   \n",
              "1                        19.1                     32541   \n",
              "2                        22.5                     35829   \n",
              "3                        24.7                     38521   \n",
              "4                        29.1                     46290   \n",
              "5                        28.7                     48215   \n",
              "6                        32.0                     53740   \n",
              "7                        33.0                     57079   \n",
              "8                        41.0                     62997   \n",
              "9                        41.0                     66248   \n",
              "\n",
              "   Data.Totals.Property.Burglary  Data.Totals.Property.Larceny  \\\n",
              "0                          11626                         19344   \n",
              "1                          11205                         18801   \n",
              "2                          11722                         21306   \n",
              "3                          12614                         22874   \n",
              "4                          15898                         26713   \n",
              "5                          16398                         28115   \n",
              "6                          18551                         30583   \n",
              "7                          20227                         31682   \n",
              "8                          22403                         34508   \n",
              "9                          23559                         36644   \n",
              "\n",
              "   Data.Totals.Property.Motor  Data.Totals.Violent.All  \\\n",
              "0                        2853                     6097   \n",
              "1                        2535                     5564   \n",
              "2                        2801                     5283   \n",
              "3                        3033                     6115   \n",
              "4                        3679                     7260   \n",
              "5                        3702                     6916   \n",
              "6                        4606                     8098   \n",
              "7                        5170                     8448   \n",
              "8                        6086                     8288   \n",
              "9                        6045                     8842   \n",
              "\n",
              "   Data.Totals.Violent.Assault  Data.Totals.Violent.Murder  \\\n",
              "0                         4512                         406   \n",
              "1                         4255                         427   \n",
              "2                         3995                         316   \n",
              "3                         4755                         340   \n",
              "4                         5555                         316   \n",
              "5                         5162                         395   \n",
              "6                         6249                         384   \n",
              "7                         6495                         415   \n",
              "8                         6009                         421   \n",
              "9                         6415                         485   \n",
              "\n",
              "   Data.Totals.Violent.Rape  Data.Totals.Violent.Robbery  \n",
              "0                       281                          898  \n",
              "1                       252                          630  \n",
              "2                       218                          754  \n",
              "3                       192                          828  \n",
              "4                       397                          992  \n",
              "5                       367                          992  \n",
              "6                       341                         1124  \n",
              "7                       371                         1167  \n",
              "8                       396                         1462  \n",
              "9                       494                         1448  \n",
              "\n",
              "[10 rows x 21 columns]"
            ],
            "text/html": [
              "\n",
              "  <div id=\"df-da8cbee8-101c-4fa7-9ba5-82c969e58dc8\">\n",
              "    <div class=\"colab-df-container\">\n",
              "      <div>\n",
              "<style scoped>\n",
              "    .dataframe tbody tr th:only-of-type {\n",
              "        vertical-align: middle;\n",
              "    }\n",
              "\n",
              "    .dataframe tbody tr th {\n",
              "        vertical-align: top;\n",
              "    }\n",
              "\n",
              "    .dataframe thead th {\n",
              "        text-align: right;\n",
              "    }\n",
              "</style>\n",
              "<table border=\"1\" class=\"dataframe\">\n",
              "  <thead>\n",
              "    <tr style=\"text-align: right;\">\n",
              "      <th></th>\n",
              "      <th>State</th>\n",
              "      <th>Year</th>\n",
              "      <th>Data.Population</th>\n",
              "      <th>Data.Rates.Property.All</th>\n",
              "      <th>Data.Rates.Property.Burglary</th>\n",
              "      <th>Data.Rates.Property.Larceny</th>\n",
              "      <th>Data.Rates.Property.Motor</th>\n",
              "      <th>Data.Rates.Violent.All</th>\n",
              "      <th>Data.Rates.Violent.Assault</th>\n",
              "      <th>Data.Rates.Violent.Murder</th>\n",
              "      <th>...</th>\n",
              "      <th>Data.Rates.Violent.Robbery</th>\n",
              "      <th>Data.Totals.Property.All</th>\n",
              "      <th>Data.Totals.Property.Burglary</th>\n",
              "      <th>Data.Totals.Property.Larceny</th>\n",
              "      <th>Data.Totals.Property.Motor</th>\n",
              "      <th>Data.Totals.Violent.All</th>\n",
              "      <th>Data.Totals.Violent.Assault</th>\n",
              "      <th>Data.Totals.Violent.Murder</th>\n",
              "      <th>Data.Totals.Violent.Rape</th>\n",
              "      <th>Data.Totals.Violent.Robbery</th>\n",
              "    </tr>\n",
              "  </thead>\n",
              "  <tbody>\n",
              "    <tr>\n",
              "      <th>0</th>\n",
              "      <td>Alabama</td>\n",
              "      <td>1960</td>\n",
              "      <td>3266740</td>\n",
              "      <td>1035.4</td>\n",
              "      <td>355.9</td>\n",
              "      <td>592.1</td>\n",
              "      <td>87.3</td>\n",
              "      <td>186.6</td>\n",
              "      <td>138.1</td>\n",
              "      <td>12.4</td>\n",
              "      <td>...</td>\n",
              "      <td>27.5</td>\n",
              "      <td>33823</td>\n",
              "      <td>11626</td>\n",
              "      <td>19344</td>\n",
              "      <td>2853</td>\n",
              "      <td>6097</td>\n",
              "      <td>4512</td>\n",
              "      <td>406</td>\n",
              "      <td>281</td>\n",
              "      <td>898</td>\n",
              "    </tr>\n",
              "    <tr>\n",
              "      <th>1</th>\n",
              "      <td>Alabama</td>\n",
              "      <td>1961</td>\n",
              "      <td>3302000</td>\n",
              "      <td>985.5</td>\n",
              "      <td>339.3</td>\n",
              "      <td>569.4</td>\n",
              "      <td>76.8</td>\n",
              "      <td>168.5</td>\n",
              "      <td>128.9</td>\n",
              "      <td>12.9</td>\n",
              "      <td>...</td>\n",
              "      <td>19.1</td>\n",
              "      <td>32541</td>\n",
              "      <td>11205</td>\n",
              "      <td>18801</td>\n",
              "      <td>2535</td>\n",
              "      <td>5564</td>\n",
              "      <td>4255</td>\n",
              "      <td>427</td>\n",
              "      <td>252</td>\n",
              "      <td>630</td>\n",
              "    </tr>\n",
              "    <tr>\n",
              "      <th>2</th>\n",
              "      <td>Alabama</td>\n",
              "      <td>1962</td>\n",
              "      <td>3358000</td>\n",
              "      <td>1067.0</td>\n",
              "      <td>349.1</td>\n",
              "      <td>634.5</td>\n",
              "      <td>83.4</td>\n",
              "      <td>157.3</td>\n",
              "      <td>119.0</td>\n",
              "      <td>9.4</td>\n",
              "      <td>...</td>\n",
              "      <td>22.5</td>\n",
              "      <td>35829</td>\n",
              "      <td>11722</td>\n",
              "      <td>21306</td>\n",
              "      <td>2801</td>\n",
              "      <td>5283</td>\n",
              "      <td>3995</td>\n",
              "      <td>316</td>\n",
              "      <td>218</td>\n",
              "      <td>754</td>\n",
              "    </tr>\n",
              "    <tr>\n",
              "      <th>3</th>\n",
              "      <td>Alabama</td>\n",
              "      <td>1963</td>\n",
              "      <td>3347000</td>\n",
              "      <td>1150.9</td>\n",
              "      <td>376.9</td>\n",
              "      <td>683.4</td>\n",
              "      <td>90.6</td>\n",
              "      <td>182.7</td>\n",
              "      <td>142.1</td>\n",
              "      <td>10.2</td>\n",
              "      <td>...</td>\n",
              "      <td>24.7</td>\n",
              "      <td>38521</td>\n",
              "      <td>12614</td>\n",
              "      <td>22874</td>\n",
              "      <td>3033</td>\n",
              "      <td>6115</td>\n",
              "      <td>4755</td>\n",
              "      <td>340</td>\n",
              "      <td>192</td>\n",
              "      <td>828</td>\n",
              "    </tr>\n",
              "    <tr>\n",
              "      <th>4</th>\n",
              "      <td>Alabama</td>\n",
              "      <td>1964</td>\n",
              "      <td>3407000</td>\n",
              "      <td>1358.7</td>\n",
              "      <td>466.6</td>\n",
              "      <td>784.1</td>\n",
              "      <td>108.0</td>\n",
              "      <td>213.1</td>\n",
              "      <td>163.0</td>\n",
              "      <td>9.3</td>\n",
              "      <td>...</td>\n",
              "      <td>29.1</td>\n",
              "      <td>46290</td>\n",
              "      <td>15898</td>\n",
              "      <td>26713</td>\n",
              "      <td>3679</td>\n",
              "      <td>7260</td>\n",
              "      <td>5555</td>\n",
              "      <td>316</td>\n",
              "      <td>397</td>\n",
              "      <td>992</td>\n",
              "    </tr>\n",
              "    <tr>\n",
              "      <th>5</th>\n",
              "      <td>Alabama</td>\n",
              "      <td>1965</td>\n",
              "      <td>3462000</td>\n",
              "      <td>1392.7</td>\n",
              "      <td>473.7</td>\n",
              "      <td>812.1</td>\n",
              "      <td>106.9</td>\n",
              "      <td>199.8</td>\n",
              "      <td>149.1</td>\n",
              "      <td>11.4</td>\n",
              "      <td>...</td>\n",
              "      <td>28.7</td>\n",
              "      <td>48215</td>\n",
              "      <td>16398</td>\n",
              "      <td>28115</td>\n",
              "      <td>3702</td>\n",
              "      <td>6916</td>\n",
              "      <td>5162</td>\n",
              "      <td>395</td>\n",
              "      <td>367</td>\n",
              "      <td>992</td>\n",
              "    </tr>\n",
              "    <tr>\n",
              "      <th>6</th>\n",
              "      <td>Alabama</td>\n",
              "      <td>1966</td>\n",
              "      <td>3517000</td>\n",
              "      <td>1528.0</td>\n",
              "      <td>527.5</td>\n",
              "      <td>869.6</td>\n",
              "      <td>131.0</td>\n",
              "      <td>230.3</td>\n",
              "      <td>177.7</td>\n",
              "      <td>10.9</td>\n",
              "      <td>...</td>\n",
              "      <td>32.0</td>\n",
              "      <td>53740</td>\n",
              "      <td>18551</td>\n",
              "      <td>30583</td>\n",
              "      <td>4606</td>\n",
              "      <td>8098</td>\n",
              "      <td>6249</td>\n",
              "      <td>384</td>\n",
              "      <td>341</td>\n",
              "      <td>1124</td>\n",
              "    </tr>\n",
              "    <tr>\n",
              "      <th>7</th>\n",
              "      <td>Alabama</td>\n",
              "      <td>1967</td>\n",
              "      <td>3540000</td>\n",
              "      <td>1612.4</td>\n",
              "      <td>571.4</td>\n",
              "      <td>895.0</td>\n",
              "      <td>146.0</td>\n",
              "      <td>238.6</td>\n",
              "      <td>183.5</td>\n",
              "      <td>11.7</td>\n",
              "      <td>...</td>\n",
              "      <td>33.0</td>\n",
              "      <td>57079</td>\n",
              "      <td>20227</td>\n",
              "      <td>31682</td>\n",
              "      <td>5170</td>\n",
              "      <td>8448</td>\n",
              "      <td>6495</td>\n",
              "      <td>415</td>\n",
              "      <td>371</td>\n",
              "      <td>1167</td>\n",
              "    </tr>\n",
              "    <tr>\n",
              "      <th>8</th>\n",
              "      <td>Alabama</td>\n",
              "      <td>1968</td>\n",
              "      <td>3566000</td>\n",
              "      <td>1766.6</td>\n",
              "      <td>628.2</td>\n",
              "      <td>967.7</td>\n",
              "      <td>170.7</td>\n",
              "      <td>232.4</td>\n",
              "      <td>168.5</td>\n",
              "      <td>11.8</td>\n",
              "      <td>...</td>\n",
              "      <td>41.0</td>\n",
              "      <td>62997</td>\n",
              "      <td>22403</td>\n",
              "      <td>34508</td>\n",
              "      <td>6086</td>\n",
              "      <td>8288</td>\n",
              "      <td>6009</td>\n",
              "      <td>421</td>\n",
              "      <td>396</td>\n",
              "      <td>1462</td>\n",
              "    </tr>\n",
              "    <tr>\n",
              "      <th>9</th>\n",
              "      <td>Alabama</td>\n",
              "      <td>1969</td>\n",
              "      <td>3531000</td>\n",
              "      <td>1876.2</td>\n",
              "      <td>667.2</td>\n",
              "      <td>1037.8</td>\n",
              "      <td>171.2</td>\n",
              "      <td>250.4</td>\n",
              "      <td>181.7</td>\n",
              "      <td>13.7</td>\n",
              "      <td>...</td>\n",
              "      <td>41.0</td>\n",
              "      <td>66248</td>\n",
              "      <td>23559</td>\n",
              "      <td>36644</td>\n",
              "      <td>6045</td>\n",
              "      <td>8842</td>\n",
              "      <td>6415</td>\n",
              "      <td>485</td>\n",
              "      <td>494</td>\n",
              "      <td>1448</td>\n",
              "    </tr>\n",
              "  </tbody>\n",
              "</table>\n",
              "<p>10 rows × 21 columns</p>\n",
              "</div>\n",
              "      <button class=\"colab-df-convert\" onclick=\"convertToInteractive('df-da8cbee8-101c-4fa7-9ba5-82c969e58dc8')\"\n",
              "              title=\"Convert this dataframe to an interactive table.\"\n",
              "              style=\"display:none;\">\n",
              "        \n",
              "  <svg xmlns=\"http://www.w3.org/2000/svg\" height=\"24px\"viewBox=\"0 0 24 24\"\n",
              "       width=\"24px\">\n",
              "    <path d=\"M0 0h24v24H0V0z\" fill=\"none\"/>\n",
              "    <path d=\"M18.56 5.44l.94 2.06.94-2.06 2.06-.94-2.06-.94-.94-2.06-.94 2.06-2.06.94zm-11 1L8.5 8.5l.94-2.06 2.06-.94-2.06-.94L8.5 2.5l-.94 2.06-2.06.94zm10 10l.94 2.06.94-2.06 2.06-.94-2.06-.94-.94-2.06-.94 2.06-2.06.94z\"/><path d=\"M17.41 7.96l-1.37-1.37c-.4-.4-.92-.59-1.43-.59-.52 0-1.04.2-1.43.59L10.3 9.45l-7.72 7.72c-.78.78-.78 2.05 0 2.83L4 21.41c.39.39.9.59 1.41.59.51 0 1.02-.2 1.41-.59l7.78-7.78 2.81-2.81c.8-.78.8-2.07 0-2.86zM5.41 20L4 18.59l7.72-7.72 1.47 1.35L5.41 20z\"/>\n",
              "  </svg>\n",
              "      </button>\n",
              "      \n",
              "  <style>\n",
              "    .colab-df-container {\n",
              "      display:flex;\n",
              "      flex-wrap:wrap;\n",
              "      gap: 12px;\n",
              "    }\n",
              "\n",
              "    .colab-df-convert {\n",
              "      background-color: #E8F0FE;\n",
              "      border: none;\n",
              "      border-radius: 50%;\n",
              "      cursor: pointer;\n",
              "      display: none;\n",
              "      fill: #1967D2;\n",
              "      height: 32px;\n",
              "      padding: 0 0 0 0;\n",
              "      width: 32px;\n",
              "    }\n",
              "\n",
              "    .colab-df-convert:hover {\n",
              "      background-color: #E2EBFA;\n",
              "      box-shadow: 0px 1px 2px rgba(60, 64, 67, 0.3), 0px 1px 3px 1px rgba(60, 64, 67, 0.15);\n",
              "      fill: #174EA6;\n",
              "    }\n",
              "\n",
              "    [theme=dark] .colab-df-convert {\n",
              "      background-color: #3B4455;\n",
              "      fill: #D2E3FC;\n",
              "    }\n",
              "\n",
              "    [theme=dark] .colab-df-convert:hover {\n",
              "      background-color: #434B5C;\n",
              "      box-shadow: 0px 1px 3px 1px rgba(0, 0, 0, 0.15);\n",
              "      filter: drop-shadow(0px 1px 2px rgba(0, 0, 0, 0.3));\n",
              "      fill: #FFFFFF;\n",
              "    }\n",
              "  </style>\n",
              "\n",
              "      <script>\n",
              "        const buttonEl =\n",
              "          document.querySelector('#df-da8cbee8-101c-4fa7-9ba5-82c969e58dc8 button.colab-df-convert');\n",
              "        buttonEl.style.display =\n",
              "          google.colab.kernel.accessAllowed ? 'block' : 'none';\n",
              "\n",
              "        async function convertToInteractive(key) {\n",
              "          const element = document.querySelector('#df-da8cbee8-101c-4fa7-9ba5-82c969e58dc8');\n",
              "          const dataTable =\n",
              "            await google.colab.kernel.invokeFunction('convertToInteractive',\n",
              "                                                     [key], {});\n",
              "          if (!dataTable) return;\n",
              "\n",
              "          const docLinkHtml = 'Like what you see? Visit the ' +\n",
              "            '<a target=\"_blank\" href=https://colab.research.google.com/notebooks/data_table.ipynb>data table notebook</a>'\n",
              "            + ' to learn more about interactive tables.';\n",
              "          element.innerHTML = '';\n",
              "          dataTable['output_type'] = 'display_data';\n",
              "          await google.colab.output.renderOutput(dataTable, element);\n",
              "          const docLink = document.createElement('div');\n",
              "          docLink.innerHTML = docLinkHtml;\n",
              "          element.appendChild(docLink);\n",
              "        }\n",
              "      </script>\n",
              "    </div>\n",
              "  </div>\n",
              "  "
            ]
          },
          "metadata": {},
          "execution_count": 35
        }
      ]
    },
    {
      "cell_type": "code",
      "source": [
        "df.shape"
      ],
      "metadata": {
        "colab": {
          "base_uri": "https://localhost:8080/"
        },
        "id": "ZKjQ2T6lWC4R",
        "outputId": "d864ea58-dcf5-4d5d-d8e4-6268fb25cec7"
      },
      "execution_count": null,
      "outputs": [
        {
          "output_type": "execute_result",
          "data": {
            "text/plain": [
              "(3115, 21)"
            ]
          },
          "metadata": {},
          "execution_count": 17
        }
      ]
    },
    {
      "cell_type": "code",
      "execution_count": null,
      "metadata": {
        "execution": {
          "iopub.execute_input": "2020-10-16T04:48:28.028244Z",
          "iopub.status.busy": "2020-10-16T04:48:28.027225Z",
          "iopub.status.idle": "2020-10-16T04:48:28.032196Z",
          "shell.execute_reply": "2020-10-16T04:48:28.031534Z"
        },
        "papermill": {
          "duration": 0.054206,
          "end_time": "2020-10-16T04:48:28.032321",
          "exception": false,
          "start_time": "2020-10-16T04:48:27.978115",
          "status": "completed"
        },
        "tags": [],
        "colab": {
          "base_uri": "https://localhost:8080/"
        },
        "id": "vPHBAscJVGFM",
        "outputId": "39527d71-2cd1-4e6b-930c-17865cea7815"
      },
      "outputs": [
        {
          "output_type": "execute_result",
          "data": {
            "text/plain": [
              "State                            0\n",
              "Year                             0\n",
              "Data.Population                  0\n",
              "Data.Rates.Property.All          0\n",
              "Data.Rates.Property.Burglary     0\n",
              "Data.Rates.Property.Larceny      0\n",
              "Data.Rates.Property.Motor        0\n",
              "Data.Rates.Violent.All           0\n",
              "Data.Rates.Violent.Assault       0\n",
              "Data.Rates.Violent.Murder        0\n",
              "Data.Rates.Violent.Rape          0\n",
              "Data.Rates.Violent.Robbery       0\n",
              "Data.Totals.Property.All         0\n",
              "Data.Totals.Property.Burglary    0\n",
              "Data.Totals.Property.Larceny     0\n",
              "Data.Totals.Property.Motor       0\n",
              "Data.Totals.Violent.All          0\n",
              "Data.Totals.Violent.Assault      0\n",
              "Data.Totals.Violent.Murder       0\n",
              "Data.Totals.Violent.Rape         0\n",
              "Data.Totals.Violent.Robbery      0\n",
              "dtype: int64"
            ]
          },
          "metadata": {},
          "execution_count": 18
        }
      ],
      "source": [
        "df.isna().sum()"
      ]
    },
    {
      "cell_type": "code",
      "execution_count": null,
      "metadata": {
        "execution": {
          "iopub.execute_input": "2020-10-16T04:48:28.126966Z",
          "iopub.status.busy": "2020-10-16T04:48:28.125863Z",
          "iopub.status.idle": "2020-10-16T04:48:28.129754Z",
          "shell.execute_reply": "2020-10-16T04:48:28.130270Z"
        },
        "papermill": {
          "duration": 0.057958,
          "end_time": "2020-10-16T04:48:28.130431",
          "exception": false,
          "start_time": "2020-10-16T04:48:28.072473",
          "status": "completed"
        },
        "tags": [],
        "colab": {
          "base_uri": "https://localhost:8080/",
          "height": 364
        },
        "id": "G6lFEAxoVGFN",
        "outputId": "91166722-5ea1-4584-cace-7af43b605805"
      },
      "outputs": [
        {
          "output_type": "execute_result",
          "data": {
            "text/plain": [
              "              Year  Data.Population  Data.Rates.Property.All  \\\n",
              "count  3115.000000     3.115000e+03              3115.000000   \n",
              "mean   1989.544141     9.708502e+06              3422.746388   \n",
              "std      17.299570     3.506750e+07              1575.438156   \n",
              "min    1960.000000     2.261670e+05                66.900000   \n",
              "25%    1975.000000     1.279156e+06              2357.650000   \n",
              "50%    1990.000000     3.358000e+06              3420.200000   \n",
              "75%    2005.000000     6.082836e+06              4433.900000   \n",
              "max    2019.000000     3.282395e+08              9512.100000   \n",
              "\n",
              "       Data.Rates.Property.Burglary  Data.Rates.Property.Larceny  \\\n",
              "count                   3115.000000                  3115.000000   \n",
              "mean                     980.836212                  2255.336950   \n",
              "std                      595.277457                   970.917867   \n",
              "min                      126.300000                   223.700000   \n",
              "25%                      561.800000                  1575.450000   \n",
              "50%                      854.300000                  2251.300000   \n",
              "75%                     1218.200000                  2876.900000   \n",
              "max                     5182.500000                  5833.800000   \n",
              "\n",
              "       Data.Rates.Property.Motor  Data.Rates.Violent.All  \\\n",
              "count                3115.000000             3115.000000   \n",
              "mean                  427.062504              397.877047   \n",
              "std                   412.164938              287.498896   \n",
              "min                    31.100000                9.500000   \n",
              "25%                   195.450000              217.200000   \n",
              "50%                   315.400000              342.200000   \n",
              "75%                   481.800000              518.250000   \n",
              "max                  4082.300000             2921.800000   \n",
              "\n",
              "       Data.Rates.Violent.Assault  Data.Rates.Violent.Murder  \\\n",
              "count                 3115.000000                3115.000000   \n",
              "mean                   230.235441                   6.477207   \n",
              "std                    161.647444                   5.886449   \n",
              "min                      3.600000                   0.200000   \n",
              "25%                    112.550000                   3.100000   \n",
              "50%                    195.800000                   5.400000   \n",
              "75%                    315.450000                   8.400000   \n",
              "max                   1557.600000                  80.600000   \n",
              "\n",
              "       Data.Rates.Violent.Rape  Data.Rates.Violent.Robbery  \\\n",
              "count              3115.000000                 3115.000000   \n",
              "mean                 30.179872                  120.786356   \n",
              "std                  16.694626                  143.516777   \n",
              "min                   0.800000                    1.900000   \n",
              "25%                  18.500000                   37.300000   \n",
              "50%                  28.800000                   90.400000   \n",
              "75%                  39.800000                  152.200000   \n",
              "max                 161.600000                 1635.100000   \n",
              "\n",
              "       Data.Totals.Property.All  Data.Totals.Property.Burglary  \\\n",
              "count              3.115000e+03                   3.115000e+03   \n",
              "mean               3.414501e+05                   1.024037e+05   \n",
              "std                1.299392e+06                   4.219078e+05   \n",
              "min                4.320000e+02                   7.510000e+02   \n",
              "25%                3.439550e+04                   1.017150e+04   \n",
              "50%                1.015400e+05                   2.871800e+04   \n",
              "75%                2.177235e+05                   5.957700e+04   \n",
              "max                1.296112e+07                   8.632512e+06   \n",
              "\n",
              "       Data.Totals.Property.Larceny  Data.Totals.Property.Motor  \\\n",
              "count                  3.115000e+03                3.115000e+03   \n",
              "mean                   2.196652e+05                4.858270e+04   \n",
              "std                    8.294311e+05                2.339655e+05   \n",
              "min                    1.489000e+03                1.940000e+02   \n",
              "25%                    2.488000e+04                3.514000e+03   \n",
              "50%                    6.743300e+04                1.033900e+04   \n",
              "75%                    1.427570e+05                2.529950e+04   \n",
              "max                    8.142228e+06                6.004453e+06   \n",
              "\n",
              "       Data.Totals.Violent.All  Data.Totals.Violent.Assault  \\\n",
              "count             3.115000e+03                 3.115000e+03   \n",
              "mean              4.594917e+04                 2.580668e+04   \n",
              "std               1.759960e+05                 1.013202e+05   \n",
              "min               3.700000e+01                 1.400000e+01   \n",
              "25%               3.318000e+03                 1.926000e+03   \n",
              "50%               1.154800e+04                 6.378000e+03   \n",
              "75%               2.880400e+04                 1.694900e+04   \n",
              "max               1.932274e+06                 1.135607e+06   \n",
              "\n",
              "       Data.Totals.Violent.Murder  Data.Totals.Violent.Rape  \\\n",
              "count                 3115.000000               3115.000000   \n",
              "mean                   663.911717               3034.240449   \n",
              "std                   2437.666178              11714.612850   \n",
              "min                      1.000000                  6.000000   \n",
              "25%                     48.000000                328.000000   \n",
              "50%                    186.000000                931.000000   \n",
              "75%                    464.000000               1930.000000   \n",
              "max                  24703.000000             139815.000000   \n",
              "\n",
              "       Data.Totals.Violent.Robbery  \n",
              "count                  3115.000000  \n",
              "mean                  15175.717817  \n",
              "std                   59589.454393  \n",
              "min                       8.000000  \n",
              "25%                     788.000000  \n",
              "50%                    3011.000000  \n",
              "75%                    7840.500000  \n",
              "max                  687732.000000  "
            ],
            "text/html": [
              "\n",
              "  <div id=\"df-48ac8d2a-3e62-4179-9834-6655765f48e8\">\n",
              "    <div class=\"colab-df-container\">\n",
              "      <div>\n",
              "<style scoped>\n",
              "    .dataframe tbody tr th:only-of-type {\n",
              "        vertical-align: middle;\n",
              "    }\n",
              "\n",
              "    .dataframe tbody tr th {\n",
              "        vertical-align: top;\n",
              "    }\n",
              "\n",
              "    .dataframe thead th {\n",
              "        text-align: right;\n",
              "    }\n",
              "</style>\n",
              "<table border=\"1\" class=\"dataframe\">\n",
              "  <thead>\n",
              "    <tr style=\"text-align: right;\">\n",
              "      <th></th>\n",
              "      <th>Year</th>\n",
              "      <th>Data.Population</th>\n",
              "      <th>Data.Rates.Property.All</th>\n",
              "      <th>Data.Rates.Property.Burglary</th>\n",
              "      <th>Data.Rates.Property.Larceny</th>\n",
              "      <th>Data.Rates.Property.Motor</th>\n",
              "      <th>Data.Rates.Violent.All</th>\n",
              "      <th>Data.Rates.Violent.Assault</th>\n",
              "      <th>Data.Rates.Violent.Murder</th>\n",
              "      <th>Data.Rates.Violent.Rape</th>\n",
              "      <th>Data.Rates.Violent.Robbery</th>\n",
              "      <th>Data.Totals.Property.All</th>\n",
              "      <th>Data.Totals.Property.Burglary</th>\n",
              "      <th>Data.Totals.Property.Larceny</th>\n",
              "      <th>Data.Totals.Property.Motor</th>\n",
              "      <th>Data.Totals.Violent.All</th>\n",
              "      <th>Data.Totals.Violent.Assault</th>\n",
              "      <th>Data.Totals.Violent.Murder</th>\n",
              "      <th>Data.Totals.Violent.Rape</th>\n",
              "      <th>Data.Totals.Violent.Robbery</th>\n",
              "    </tr>\n",
              "  </thead>\n",
              "  <tbody>\n",
              "    <tr>\n",
              "      <th>count</th>\n",
              "      <td>3115.000000</td>\n",
              "      <td>3.115000e+03</td>\n",
              "      <td>3115.000000</td>\n",
              "      <td>3115.000000</td>\n",
              "      <td>3115.000000</td>\n",
              "      <td>3115.000000</td>\n",
              "      <td>3115.000000</td>\n",
              "      <td>3115.000000</td>\n",
              "      <td>3115.000000</td>\n",
              "      <td>3115.000000</td>\n",
              "      <td>3115.000000</td>\n",
              "      <td>3.115000e+03</td>\n",
              "      <td>3.115000e+03</td>\n",
              "      <td>3.115000e+03</td>\n",
              "      <td>3.115000e+03</td>\n",
              "      <td>3.115000e+03</td>\n",
              "      <td>3.115000e+03</td>\n",
              "      <td>3115.000000</td>\n",
              "      <td>3115.000000</td>\n",
              "      <td>3115.000000</td>\n",
              "    </tr>\n",
              "    <tr>\n",
              "      <th>mean</th>\n",
              "      <td>1989.544141</td>\n",
              "      <td>9.708502e+06</td>\n",
              "      <td>3422.746388</td>\n",
              "      <td>980.836212</td>\n",
              "      <td>2255.336950</td>\n",
              "      <td>427.062504</td>\n",
              "      <td>397.877047</td>\n",
              "      <td>230.235441</td>\n",
              "      <td>6.477207</td>\n",
              "      <td>30.179872</td>\n",
              "      <td>120.786356</td>\n",
              "      <td>3.414501e+05</td>\n",
              "      <td>1.024037e+05</td>\n",
              "      <td>2.196652e+05</td>\n",
              "      <td>4.858270e+04</td>\n",
              "      <td>4.594917e+04</td>\n",
              "      <td>2.580668e+04</td>\n",
              "      <td>663.911717</td>\n",
              "      <td>3034.240449</td>\n",
              "      <td>15175.717817</td>\n",
              "    </tr>\n",
              "    <tr>\n",
              "      <th>std</th>\n",
              "      <td>17.299570</td>\n",
              "      <td>3.506750e+07</td>\n",
              "      <td>1575.438156</td>\n",
              "      <td>595.277457</td>\n",
              "      <td>970.917867</td>\n",
              "      <td>412.164938</td>\n",
              "      <td>287.498896</td>\n",
              "      <td>161.647444</td>\n",
              "      <td>5.886449</td>\n",
              "      <td>16.694626</td>\n",
              "      <td>143.516777</td>\n",
              "      <td>1.299392e+06</td>\n",
              "      <td>4.219078e+05</td>\n",
              "      <td>8.294311e+05</td>\n",
              "      <td>2.339655e+05</td>\n",
              "      <td>1.759960e+05</td>\n",
              "      <td>1.013202e+05</td>\n",
              "      <td>2437.666178</td>\n",
              "      <td>11714.612850</td>\n",
              "      <td>59589.454393</td>\n",
              "    </tr>\n",
              "    <tr>\n",
              "      <th>min</th>\n",
              "      <td>1960.000000</td>\n",
              "      <td>2.261670e+05</td>\n",
              "      <td>66.900000</td>\n",
              "      <td>126.300000</td>\n",
              "      <td>223.700000</td>\n",
              "      <td>31.100000</td>\n",
              "      <td>9.500000</td>\n",
              "      <td>3.600000</td>\n",
              "      <td>0.200000</td>\n",
              "      <td>0.800000</td>\n",
              "      <td>1.900000</td>\n",
              "      <td>4.320000e+02</td>\n",
              "      <td>7.510000e+02</td>\n",
              "      <td>1.489000e+03</td>\n",
              "      <td>1.940000e+02</td>\n",
              "      <td>3.700000e+01</td>\n",
              "      <td>1.400000e+01</td>\n",
              "      <td>1.000000</td>\n",
              "      <td>6.000000</td>\n",
              "      <td>8.000000</td>\n",
              "    </tr>\n",
              "    <tr>\n",
              "      <th>25%</th>\n",
              "      <td>1975.000000</td>\n",
              "      <td>1.279156e+06</td>\n",
              "      <td>2357.650000</td>\n",
              "      <td>561.800000</td>\n",
              "      <td>1575.450000</td>\n",
              "      <td>195.450000</td>\n",
              "      <td>217.200000</td>\n",
              "      <td>112.550000</td>\n",
              "      <td>3.100000</td>\n",
              "      <td>18.500000</td>\n",
              "      <td>37.300000</td>\n",
              "      <td>3.439550e+04</td>\n",
              "      <td>1.017150e+04</td>\n",
              "      <td>2.488000e+04</td>\n",
              "      <td>3.514000e+03</td>\n",
              "      <td>3.318000e+03</td>\n",
              "      <td>1.926000e+03</td>\n",
              "      <td>48.000000</td>\n",
              "      <td>328.000000</td>\n",
              "      <td>788.000000</td>\n",
              "    </tr>\n",
              "    <tr>\n",
              "      <th>50%</th>\n",
              "      <td>1990.000000</td>\n",
              "      <td>3.358000e+06</td>\n",
              "      <td>3420.200000</td>\n",
              "      <td>854.300000</td>\n",
              "      <td>2251.300000</td>\n",
              "      <td>315.400000</td>\n",
              "      <td>342.200000</td>\n",
              "      <td>195.800000</td>\n",
              "      <td>5.400000</td>\n",
              "      <td>28.800000</td>\n",
              "      <td>90.400000</td>\n",
              "      <td>1.015400e+05</td>\n",
              "      <td>2.871800e+04</td>\n",
              "      <td>6.743300e+04</td>\n",
              "      <td>1.033900e+04</td>\n",
              "      <td>1.154800e+04</td>\n",
              "      <td>6.378000e+03</td>\n",
              "      <td>186.000000</td>\n",
              "      <td>931.000000</td>\n",
              "      <td>3011.000000</td>\n",
              "    </tr>\n",
              "    <tr>\n",
              "      <th>75%</th>\n",
              "      <td>2005.000000</td>\n",
              "      <td>6.082836e+06</td>\n",
              "      <td>4433.900000</td>\n",
              "      <td>1218.200000</td>\n",
              "      <td>2876.900000</td>\n",
              "      <td>481.800000</td>\n",
              "      <td>518.250000</td>\n",
              "      <td>315.450000</td>\n",
              "      <td>8.400000</td>\n",
              "      <td>39.800000</td>\n",
              "      <td>152.200000</td>\n",
              "      <td>2.177235e+05</td>\n",
              "      <td>5.957700e+04</td>\n",
              "      <td>1.427570e+05</td>\n",
              "      <td>2.529950e+04</td>\n",
              "      <td>2.880400e+04</td>\n",
              "      <td>1.694900e+04</td>\n",
              "      <td>464.000000</td>\n",
              "      <td>1930.000000</td>\n",
              "      <td>7840.500000</td>\n",
              "    </tr>\n",
              "    <tr>\n",
              "      <th>max</th>\n",
              "      <td>2019.000000</td>\n",
              "      <td>3.282395e+08</td>\n",
              "      <td>9512.100000</td>\n",
              "      <td>5182.500000</td>\n",
              "      <td>5833.800000</td>\n",
              "      <td>4082.300000</td>\n",
              "      <td>2921.800000</td>\n",
              "      <td>1557.600000</td>\n",
              "      <td>80.600000</td>\n",
              "      <td>161.600000</td>\n",
              "      <td>1635.100000</td>\n",
              "      <td>1.296112e+07</td>\n",
              "      <td>8.632512e+06</td>\n",
              "      <td>8.142228e+06</td>\n",
              "      <td>6.004453e+06</td>\n",
              "      <td>1.932274e+06</td>\n",
              "      <td>1.135607e+06</td>\n",
              "      <td>24703.000000</td>\n",
              "      <td>139815.000000</td>\n",
              "      <td>687732.000000</td>\n",
              "    </tr>\n",
              "  </tbody>\n",
              "</table>\n",
              "</div>\n",
              "      <button class=\"colab-df-convert\" onclick=\"convertToInteractive('df-48ac8d2a-3e62-4179-9834-6655765f48e8')\"\n",
              "              title=\"Convert this dataframe to an interactive table.\"\n",
              "              style=\"display:none;\">\n",
              "        \n",
              "  <svg xmlns=\"http://www.w3.org/2000/svg\" height=\"24px\"viewBox=\"0 0 24 24\"\n",
              "       width=\"24px\">\n",
              "    <path d=\"M0 0h24v24H0V0z\" fill=\"none\"/>\n",
              "    <path d=\"M18.56 5.44l.94 2.06.94-2.06 2.06-.94-2.06-.94-.94-2.06-.94 2.06-2.06.94zm-11 1L8.5 8.5l.94-2.06 2.06-.94-2.06-.94L8.5 2.5l-.94 2.06-2.06.94zm10 10l.94 2.06.94-2.06 2.06-.94-2.06-.94-.94-2.06-.94 2.06-2.06.94z\"/><path d=\"M17.41 7.96l-1.37-1.37c-.4-.4-.92-.59-1.43-.59-.52 0-1.04.2-1.43.59L10.3 9.45l-7.72 7.72c-.78.78-.78 2.05 0 2.83L4 21.41c.39.39.9.59 1.41.59.51 0 1.02-.2 1.41-.59l7.78-7.78 2.81-2.81c.8-.78.8-2.07 0-2.86zM5.41 20L4 18.59l7.72-7.72 1.47 1.35L5.41 20z\"/>\n",
              "  </svg>\n",
              "      </button>\n",
              "      \n",
              "  <style>\n",
              "    .colab-df-container {\n",
              "      display:flex;\n",
              "      flex-wrap:wrap;\n",
              "      gap: 12px;\n",
              "    }\n",
              "\n",
              "    .colab-df-convert {\n",
              "      background-color: #E8F0FE;\n",
              "      border: none;\n",
              "      border-radius: 50%;\n",
              "      cursor: pointer;\n",
              "      display: none;\n",
              "      fill: #1967D2;\n",
              "      height: 32px;\n",
              "      padding: 0 0 0 0;\n",
              "      width: 32px;\n",
              "    }\n",
              "\n",
              "    .colab-df-convert:hover {\n",
              "      background-color: #E2EBFA;\n",
              "      box-shadow: 0px 1px 2px rgba(60, 64, 67, 0.3), 0px 1px 3px 1px rgba(60, 64, 67, 0.15);\n",
              "      fill: #174EA6;\n",
              "    }\n",
              "\n",
              "    [theme=dark] .colab-df-convert {\n",
              "      background-color: #3B4455;\n",
              "      fill: #D2E3FC;\n",
              "    }\n",
              "\n",
              "    [theme=dark] .colab-df-convert:hover {\n",
              "      background-color: #434B5C;\n",
              "      box-shadow: 0px 1px 3px 1px rgba(0, 0, 0, 0.15);\n",
              "      filter: drop-shadow(0px 1px 2px rgba(0, 0, 0, 0.3));\n",
              "      fill: #FFFFFF;\n",
              "    }\n",
              "  </style>\n",
              "\n",
              "      <script>\n",
              "        const buttonEl =\n",
              "          document.querySelector('#df-48ac8d2a-3e62-4179-9834-6655765f48e8 button.colab-df-convert');\n",
              "        buttonEl.style.display =\n",
              "          google.colab.kernel.accessAllowed ? 'block' : 'none';\n",
              "\n",
              "        async function convertToInteractive(key) {\n",
              "          const element = document.querySelector('#df-48ac8d2a-3e62-4179-9834-6655765f48e8');\n",
              "          const dataTable =\n",
              "            await google.colab.kernel.invokeFunction('convertToInteractive',\n",
              "                                                     [key], {});\n",
              "          if (!dataTable) return;\n",
              "\n",
              "          const docLinkHtml = 'Like what you see? Visit the ' +\n",
              "            '<a target=\"_blank\" href=https://colab.research.google.com/notebooks/data_table.ipynb>data table notebook</a>'\n",
              "            + ' to learn more about interactive tables.';\n",
              "          element.innerHTML = '';\n",
              "          dataTable['output_type'] = 'display_data';\n",
              "          await google.colab.output.renderOutput(dataTable, element);\n",
              "          const docLink = document.createElement('div');\n",
              "          docLink.innerHTML = docLinkHtml;\n",
              "          element.appendChild(docLink);\n",
              "        }\n",
              "      </script>\n",
              "    </div>\n",
              "  </div>\n",
              "  "
            ]
          },
          "metadata": {},
          "execution_count": 19
        }
      ],
      "source": [
        "df.describe()"
      ]
    },
    {
      "cell_type": "code",
      "execution_count": null,
      "metadata": {
        "execution": {
          "iopub.execute_input": "2020-10-16T04:48:28.221034Z",
          "iopub.status.busy": "2020-10-16T04:48:28.220180Z",
          "iopub.status.idle": "2020-10-16T04:48:28.224831Z",
          "shell.execute_reply": "2020-10-16T04:48:28.224232Z"
        },
        "papermill": {
          "duration": 0.052968,
          "end_time": "2020-10-16T04:48:28.224968",
          "exception": false,
          "start_time": "2020-10-16T04:48:28.172000",
          "status": "completed"
        },
        "tags": [],
        "colab": {
          "base_uri": "https://localhost:8080/"
        },
        "id": "4z0_OlSjVGFR",
        "outputId": "0d1f4bbb-a007-40fd-cd03-8251373f483b"
      },
      "outputs": [
        {
          "output_type": "execute_result",
          "data": {
            "text/plain": [
              "State                             object\n",
              "Year                               int64\n",
              "Data.Population                    int64\n",
              "Data.Rates.Property.All          float64\n",
              "Data.Rates.Property.Burglary     float64\n",
              "Data.Rates.Property.Larceny      float64\n",
              "Data.Rates.Property.Motor        float64\n",
              "Data.Rates.Violent.All           float64\n",
              "Data.Rates.Violent.Assault       float64\n",
              "Data.Rates.Violent.Murder        float64\n",
              "Data.Rates.Violent.Rape          float64\n",
              "Data.Rates.Violent.Robbery       float64\n",
              "Data.Totals.Property.All           int64\n",
              "Data.Totals.Property.Burglary      int64\n",
              "Data.Totals.Property.Larceny       int64\n",
              "Data.Totals.Property.Motor         int64\n",
              "Data.Totals.Violent.All            int64\n",
              "Data.Totals.Violent.Assault        int64\n",
              "Data.Totals.Violent.Murder         int64\n",
              "Data.Totals.Violent.Rape           int64\n",
              "Data.Totals.Violent.Robbery        int64\n",
              "dtype: object"
            ]
          },
          "metadata": {},
          "execution_count": 20
        }
      ],
      "source": [
        "df.dtypes"
      ]
    },
    {
      "cell_type": "code",
      "execution_count": null,
      "metadata": {
        "execution": {
          "iopub.execute_input": "2020-10-16T04:48:28.315264Z",
          "iopub.status.busy": "2020-10-16T04:48:28.314359Z",
          "iopub.status.idle": "2020-10-16T04:48:30.387045Z",
          "shell.execute_reply": "2020-10-16T04:48:30.386094Z"
        },
        "papermill": {
          "duration": 2.120084,
          "end_time": "2020-10-16T04:48:30.387212",
          "exception": false,
          "start_time": "2020-10-16T04:48:28.267128",
          "status": "completed"
        },
        "tags": [],
        "colab": {
          "base_uri": "https://localhost:8080/",
          "height": 729
        },
        "id": "4J2fGGAJVGFS",
        "outputId": "39a4b148-a7ec-4169-c062-f94a8e0a3831"
      },
      "outputs": [
        {
          "output_type": "display_data",
          "data": {
            "text/plain": [
              "<Figure size 720x720 with 20 Axes>"
            ],
            "image/png": "[encoded data removed]"
          },
          "metadata": {
            "needs_background": "light"
          }
        }
      ],
      "source": [
        "df.hist(figsize=(10,10),edgecolor=\"k\")\n",
        "plt.tight_layout()\n",
        "plt.show()"
      ]
    },
    {
      "cell_type": "code",
      "source": [
        "rape_victims= df[df['Subgroup']=='Victims of Incest Rape']\n",
        "rape_victims"
      ],
      "metadata": {
        "colab": {
          "base_uri": "https://localhost:8080/",
          "height": 501
        },
        "id": "5ZiX2-W3aCbX",
        "outputId": "4ba863ce-387d-4c08-eac7-ac7ff45aebdb"
      },
      "execution_count": null,
      "outputs": [
        {
          "output_type": "error",
          "ename": "KeyError",
          "evalue": "ignored",
          "traceback": [
            "\u001b[0;31m---------------------------------------------------------------------------\u001b[0m",
            "\u001b[0;31mKeyError\u001b[0m                                  Traceback (most recent call last)",
            "\u001b[0;32m/usr/local/lib/python3.7/dist-packages/pandas/core/indexes/base.py\u001b[0m in \u001b[0;36mget_loc\u001b[0;34m(self, key, method, tolerance)\u001b[0m\n\u001b[1;32m   3360\u001b[0m             \u001b[0;32mtry\u001b[0m\u001b[0;34m:\u001b[0m\u001b[0;34m\u001b[0m\u001b[0;34m\u001b[0m\u001b[0m\n\u001b[0;32m-> 3361\u001b[0;31m                 \u001b[0;32mreturn\u001b[0m \u001b[0mself\u001b[0m\u001b[0;34m.\u001b[0m\u001b[0m_engine\u001b[0m\u001b[0;34m.\u001b[0m\u001b[0mget_loc\u001b[0m\u001b[0;34m(\u001b[0m\u001b[0mcasted_key\u001b[0m\u001b[0;34m)\u001b[0m\u001b[0;34m\u001b[0m\u001b[0;34m\u001b[0m\u001b[0m\n\u001b[0m\u001b[1;32m   3362\u001b[0m             \u001b[0;32mexcept\u001b[0m \u001b[0mKeyError\u001b[0m \u001b[0;32mas\u001b[0m \u001b[0merr\u001b[0m\u001b[0;34m:\u001b[0m\u001b[0;34m\u001b[0m\u001b[0;34m\u001b[0m\u001b[0m\n",
            "\u001b[0;32m/usr/local/lib/python3.7/dist-packages/pandas/_libs/index.pyx\u001b[0m in \u001b[0;36mpandas._libs.index.IndexEngine.get_loc\u001b[0;34m()\u001b[0m\n",
            "\u001b[0;32m/usr/local/lib/python3.7/dist-packages/pandas/_libs/index.pyx\u001b[0m in \u001b[0;36mpandas._libs.index.IndexEngine.get_loc\u001b[0;34m()\u001b[0m\n",
            "\u001b[0;32mpandas/_libs/hashtable_class_helper.pxi\u001b[0m in \u001b[0;36mpandas._libs.hashtable.PyObjectHashTable.get_item\u001b[0;34m()\u001b[0m\n",
            "\u001b[0;32mpandas/_libs/hashtable_class_helper.pxi\u001b[0m in \u001b[0;36mpandas._libs.hashtable.PyObjectHashTable.get_item\u001b[0;34m()\u001b[0m\n",
            "\u001b[0;31mKeyError\u001b[0m: 'Subgroup'",
            "\nThe above exception was the direct cause of the following exception:\n",
            "\u001b[0;31mKeyError\u001b[0m                                  Traceback (most recent call last)",
            "\u001b[0;32m<ipython-input-23-57dec75e8d27>\u001b[0m in \u001b[0;36m<module>\u001b[0;34m()\u001b[0m\n\u001b[0;32m----> 1\u001b[0;31m \u001b[0mrape_victims\u001b[0m\u001b[0;34m=\u001b[0m \u001b[0mdf\u001b[0m\u001b[0;34m[\u001b[0m\u001b[0mdf\u001b[0m\u001b[0;34m[\u001b[0m\u001b[0;34m'Subgroup'\u001b[0m\u001b[0;34m]\u001b[0m\u001b[0;34m==\u001b[0m\u001b[0;34m'Victims of Incest Rape'\u001b[0m\u001b[0;34m]\u001b[0m\u001b[0;34m\u001b[0m\u001b[0;34m\u001b[0m\u001b[0m\n\u001b[0m\u001b[1;32m      2\u001b[0m \u001b[0mrape_victims\u001b[0m\u001b[0;34m\u001b[0m\u001b[0;34m\u001b[0m\u001b[0m\n",
            "\u001b[0;32m/usr/local/lib/python3.7/dist-packages/pandas/core/frame.py\u001b[0m in \u001b[0;36m__getitem__\u001b[0;34m(self, key)\u001b[0m\n\u001b[1;32m   3456\u001b[0m             \u001b[0;32mif\u001b[0m \u001b[0mself\u001b[0m\u001b[0;34m.\u001b[0m\u001b[0mcolumns\u001b[0m\u001b[0;34m.\u001b[0m\u001b[0mnlevels\u001b[0m \u001b[0;34m>\u001b[0m \u001b[0;36m1\u001b[0m\u001b[0;34m:\u001b[0m\u001b[0;34m\u001b[0m\u001b[0;34m\u001b[0m\u001b[0m\n\u001b[1;32m   3457\u001b[0m                 \u001b[0;32mreturn\u001b[0m \u001b[0mself\u001b[0m\u001b[0;34m.\u001b[0m\u001b[0m_getitem_multilevel\u001b[0m\u001b[0;34m(\u001b[0m\u001b[0mkey\u001b[0m\u001b[0;34m)\u001b[0m\u001b[0;34m\u001b[0m\u001b[0;34m\u001b[0m\u001b[0m\n\u001b[0;32m-> 3458\u001b[0;31m             \u001b[0mindexer\u001b[0m \u001b[0;34m=\u001b[0m \u001b[0mself\u001b[0m\u001b[0;34m.\u001b[0m\u001b[0mcolumns\u001b[0m\u001b[0;34m.\u001b[0m\u001b[0mget_loc\u001b[0m\u001b[0;34m(\u001b[0m\u001b[0mkey\u001b[0m\u001b[0;34m)\u001b[0m\u001b[0;34m\u001b[0m\u001b[0;34m\u001b[0m\u001b[0m\n\u001b[0m\u001b[1;32m   3459\u001b[0m             \u001b[0;32mif\u001b[0m \u001b[0mis_integer\u001b[0m\u001b[0;34m(\u001b[0m\u001b[0mindexer\u001b[0m\u001b[0;34m)\u001b[0m\u001b[0;34m:\u001b[0m\u001b[0;34m\u001b[0m\u001b[0;34m\u001b[0m\u001b[0m\n\u001b[1;32m   3460\u001b[0m                 \u001b[0mindexer\u001b[0m \u001b[0;34m=\u001b[0m \u001b[0;34m[\u001b[0m\u001b[0mindexer\u001b[0m\u001b[0;34m]\u001b[0m\u001b[0;34m\u001b[0m\u001b[0;34m\u001b[0m\u001b[0m\n",
            "\u001b[0;32m/usr/local/lib/python3.7/dist-packages/pandas/core/indexes/base.py\u001b[0m in \u001b[0;36mget_loc\u001b[0;34m(self, key, method, tolerance)\u001b[0m\n\u001b[1;32m   3361\u001b[0m                 \u001b[0;32mreturn\u001b[0m \u001b[0mself\u001b[0m\u001b[0;34m.\u001b[0m\u001b[0m_engine\u001b[0m\u001b[0;34m.\u001b[0m\u001b[0mget_loc\u001b[0m\u001b[0;34m(\u001b[0m\u001b[0mcasted_key\u001b[0m\u001b[0;34m)\u001b[0m\u001b[0;34m\u001b[0m\u001b[0;34m\u001b[0m\u001b[0m\n\u001b[1;32m   3362\u001b[0m             \u001b[0;32mexcept\u001b[0m \u001b[0mKeyError\u001b[0m \u001b[0;32mas\u001b[0m \u001b[0merr\u001b[0m\u001b[0;34m:\u001b[0m\u001b[0;34m\u001b[0m\u001b[0;34m\u001b[0m\u001b[0m\n\u001b[0;32m-> 3363\u001b[0;31m                 \u001b[0;32mraise\u001b[0m \u001b[0mKeyError\u001b[0m\u001b[0;34m(\u001b[0m\u001b[0mkey\u001b[0m\u001b[0;34m)\u001b[0m \u001b[0;32mfrom\u001b[0m \u001b[0merr\u001b[0m\u001b[0;34m\u001b[0m\u001b[0;34m\u001b[0m\u001b[0m\n\u001b[0m\u001b[1;32m   3364\u001b[0m \u001b[0;34m\u001b[0m\u001b[0m\n\u001b[1;32m   3365\u001b[0m         \u001b[0;32mif\u001b[0m \u001b[0mis_scalar\u001b[0m\u001b[0;34m(\u001b[0m\u001b[0mkey\u001b[0m\u001b[0;34m)\u001b[0m \u001b[0;32mand\u001b[0m \u001b[0misna\u001b[0m\u001b[0;34m(\u001b[0m\u001b[0mkey\u001b[0m\u001b[0;34m)\u001b[0m \u001b[0;32mand\u001b[0m \u001b[0;32mnot\u001b[0m \u001b[0mself\u001b[0m\u001b[0;34m.\u001b[0m\u001b[0mhasnans\u001b[0m\u001b[0;34m:\u001b[0m\u001b[0;34m\u001b[0m\u001b[0;34m\u001b[0m\u001b[0m\n",
            "\u001b[0;31mKeyError\u001b[0m: 'Subgroup'"
          ]
        }
      ]
    },
    {
      "cell_type": "code",
      "source": [
        "g= pd.DataFrame(rape_victims.groupby(['Year'])['Rape_Cases_Reported'].sum().reset_index())\n",
        "g\n",
        "g.columns=['Year','Cases Reported']"
      ],
      "metadata": {
        "colab": {
          "base_uri": "https://localhost:8080/",
          "height": 200
        },
        "id": "RhR_4IQLZ2HB",
        "outputId": "1aa32385-e52b-422c-c67c-de167768b160"
      },
      "execution_count": null,
      "outputs": [
        {
          "output_type": "error",
          "ename": "NameError",
          "evalue": "ignored",
          "traceback": [
            "\u001b[0;31m---------------------------------------------------------------------------\u001b[0m",
            "\u001b[0;31mNameError\u001b[0m                                 Traceback (most recent call last)",
            "\u001b[0;32m<ipython-input-11-ed7af78651b8>\u001b[0m in \u001b[0;36m<module>\u001b[0;34m()\u001b[0m\n\u001b[0;32m----> 1\u001b[0;31m \u001b[0mg\u001b[0m\u001b[0;34m=\u001b[0m \u001b[0mpd\u001b[0m\u001b[0;34m.\u001b[0m\u001b[0mDataFrame\u001b[0m\u001b[0;34m(\u001b[0m\u001b[0mrape_victims\u001b[0m\u001b[0;34m.\u001b[0m\u001b[0mgroupby\u001b[0m\u001b[0;34m(\u001b[0m\u001b[0;34m[\u001b[0m\u001b[0;34m'Year'\u001b[0m\u001b[0;34m]\u001b[0m\u001b[0;34m)\u001b[0m\u001b[0;34m[\u001b[0m\u001b[0;34m'Rape_Cases_Reported'\u001b[0m\u001b[0;34m]\u001b[0m\u001b[0;34m.\u001b[0m\u001b[0msum\u001b[0m\u001b[0;34m(\u001b[0m\u001b[0;34m)\u001b[0m\u001b[0;34m.\u001b[0m\u001b[0mreset_index\u001b[0m\u001b[0;34m(\u001b[0m\u001b[0;34m)\u001b[0m\u001b[0;34m)\u001b[0m\u001b[0;34m\u001b[0m\u001b[0;34m\u001b[0m\u001b[0m\n\u001b[0m\u001b[1;32m      2\u001b[0m \u001b[0mg\u001b[0m\u001b[0;34m\u001b[0m\u001b[0;34m\u001b[0m\u001b[0m\n\u001b[1;32m      3\u001b[0m \u001b[0mg\u001b[0m\u001b[0;34m.\u001b[0m\u001b[0mcolumns\u001b[0m\u001b[0;34m=\u001b[0m\u001b[0;34m[\u001b[0m\u001b[0;34m'Year'\u001b[0m\u001b[0;34m,\u001b[0m\u001b[0;34m'Cases Reported'\u001b[0m\u001b[0;34m]\u001b[0m\u001b[0;34m\u001b[0m\u001b[0;34m\u001b[0m\u001b[0m\n",
            "\u001b[0;31mNameError\u001b[0m: name 'rape_victims' is not defined"
          ]
        }
      ]
    },
    {
      "cell_type": "code",
      "source": [
        "fig= px.bar(g,x='Year',y='Cases Reported',color_discrete_sequence=['blue'])\n",
        "fig.show()"
      ],
      "metadata": {
        "colab": {
          "base_uri": "https://localhost:8080/",
          "height": 182
        },
        "id": "P0b2RRnmXuTm",
        "outputId": "e0657f41-c120-40c3-9199-4448eb112add"
      },
      "execution_count": null,
      "outputs": [
        {
          "output_type": "error",
          "ename": "NameError",
          "evalue": "ignored",
          "traceback": [
            "\u001b[0;31m---------------------------------------------------------------------------\u001b[0m",
            "\u001b[0;31mNameError\u001b[0m                                 Traceback (most recent call last)",
            "\u001b[0;32m<ipython-input-12-7b6ec77d4807>\u001b[0m in \u001b[0;36m<module>\u001b[0;34m()\u001b[0m\n\u001b[0;32m----> 1\u001b[0;31m \u001b[0mfig\u001b[0m\u001b[0;34m=\u001b[0m \u001b[0mpx\u001b[0m\u001b[0;34m.\u001b[0m\u001b[0mbar\u001b[0m\u001b[0;34m(\u001b[0m\u001b[0mg\u001b[0m\u001b[0;34m,\u001b[0m\u001b[0mx\u001b[0m\u001b[0;34m=\u001b[0m\u001b[0;34m'Year'\u001b[0m\u001b[0;34m,\u001b[0m\u001b[0my\u001b[0m\u001b[0;34m=\u001b[0m\u001b[0;34m'Cases Reported'\u001b[0m\u001b[0;34m,\u001b[0m\u001b[0mcolor_discrete_sequence\u001b[0m\u001b[0;34m=\u001b[0m\u001b[0;34m[\u001b[0m\u001b[0;34m'blue'\u001b[0m\u001b[0;34m]\u001b[0m\u001b[0;34m)\u001b[0m\u001b[0;34m\u001b[0m\u001b[0;34m\u001b[0m\u001b[0m\n\u001b[0m\u001b[1;32m      2\u001b[0m \u001b[0mfig\u001b[0m\u001b[0;34m.\u001b[0m\u001b[0mshow\u001b[0m\u001b[0;34m(\u001b[0m\u001b[0;34m)\u001b[0m\u001b[0;34m\u001b[0m\u001b[0;34m\u001b[0m\u001b[0m\n",
            "\u001b[0;31mNameError\u001b[0m: name 'g' is not defined"
          ]
        }
      ]
    },
    {
      "cell_type": "markdown",
      "metadata": {
        "papermill": {
          "duration": 0.044178,
          "end_time": "2020-10-16T04:48:30.475358",
          "exception": false,
          "start_time": "2020-10-16T04:48:30.431180",
          "status": "completed"
        },
        "tags": [],
        "id": "YXx3iRaVVGFU"
      },
      "source": [
        "Distribution of cases according to age "
      ]
    },
    {
      "cell_type": "code",
      "source": [
        "g1= pd.DataFrame(rape_victims.groupby(['Area_Name'])['Rape_Cases_Reported'].sum().reset_index())\n"
      ],
      "metadata": {
        "id": "iCpYmre4cemB"
      },
      "execution_count": null,
      "outputs": []
    },
    {
      "cell_type": "code",
      "source": [
        "\n",
        "g1"
      ],
      "metadata": {
        "colab": {
          "base_uri": "https://localhost:8080/",
          "height": 1000
        },
        "id": "c9lnGLFwcgVe",
        "outputId": "ffaf2c1e-542c-4863-e334-741ecd2d0a13"
      },
      "execution_count": null,
      "outputs": [
        {
          "output_type": "execute_result",
          "data": {
            "text/plain": [
              "                    Area_Name  Rape_Cases_Reported\n",
              "0   Andaman & Nicobar Islands                  1.0\n",
              "1              Andhra Pradesh                 70.0\n",
              "2           Arunachal Pradesh                  0.0\n",
              "3                       Assam                101.0\n",
              "4                       Bihar                 43.0\n",
              "5                  Chandigarh                 17.0\n",
              "6                Chhattisgarh                532.0\n",
              "7        Dadra & Nagar Haveli                  0.0\n",
              "8                 Daman & Diu                  0.0\n",
              "9                       Delhi                231.0\n",
              "10                        Goa                  7.0\n",
              "11                    Gujarat                 97.0\n",
              "12                    Haryana                149.0\n",
              "13           Himachal Pradesh                 43.0\n",
              "14            Jammu & Kashmir                 12.0\n",
              "15                  Jharkhand                321.0\n",
              "16                  Karnataka                 46.0\n",
              "17                     Kerala                128.0\n",
              "18                Lakshadweep                  0.0\n",
              "19             Madhya Pradesh                865.0\n",
              "20                Maharashtra                359.0\n",
              "21                    Manipur                  7.0\n",
              "22                  Meghalaya                 46.0\n",
              "23                    Mizoram                 13.0\n",
              "24                   Nagaland                  4.0\n",
              "25                     Odisha                 73.0\n",
              "26                 Puducherry                  0.0\n",
              "27                     Punjab                163.0\n",
              "28                  Rajasthan                337.0\n",
              "29                     Sikkim                 10.0\n",
              "30                 Tamil Nadu                116.0\n",
              "31                    Tripura                  5.0\n",
              "32              Uttar Pradesh                138.0\n",
              "33                Uttarakhand                 71.0\n",
              "34                West Bengal                211.0"
            ],
            "text/html": [
              "\n",
              "  <div id=\"df-72a8fdfe-f965-4e3a-8cee-dcc066be3c79\">\n",
              "    <div class=\"colab-df-container\">\n",
              "      <div>\n",
              "<style scoped>\n",
              "    .dataframe tbody tr th:only-of-type {\n",
              "        vertical-align: middle;\n",
              "    }\n",
              "\n",
              "    .dataframe tbody tr th {\n",
              "        vertical-align: top;\n",
              "    }\n",
              "\n",
              "    .dataframe thead th {\n",
              "        text-align: right;\n",
              "    }\n",
              "</style>\n",
              "<table border=\"1\" class=\"dataframe\">\n",
              "  <thead>\n",
              "    <tr style=\"text-align: right;\">\n",
              "      <th></th>\n",
              "      <th>Area_Name</th>\n",
              "      <th>Rape_Cases_Reported</th>\n",
              "    </tr>\n",
              "  </thead>\n",
              "  <tbody>\n",
              "    <tr>\n",
              "      <th>0</th>\n",
              "      <td>Andaman &amp; Nicobar Islands</td>\n",
              "      <td>1.0</td>\n",
              "    </tr>\n",
              "    <tr>\n",
              "      <th>1</th>\n",
              "      <td>Andhra Pradesh</td>\n",
              "      <td>70.0</td>\n",
              "    </tr>\n",
              "    <tr>\n",
              "      <th>2</th>\n",
              "      <td>Arunachal Pradesh</td>\n",
              "      <td>0.0</td>\n",
              "    </tr>\n",
              "    <tr>\n",
              "      <th>3</th>\n",
              "      <td>Assam</td>\n",
              "      <td>101.0</td>\n",
              "    </tr>\n",
              "    <tr>\n",
              "      <th>4</th>\n",
              "      <td>Bihar</td>\n",
              "      <td>43.0</td>\n",
              "    </tr>\n",
              "    <tr>\n",
              "      <th>5</th>\n",
              "      <td>Chandigarh</td>\n",
              "      <td>17.0</td>\n",
              "    </tr>\n",
              "    <tr>\n",
              "      <th>6</th>\n",
              "      <td>Chhattisgarh</td>\n",
              "      <td>532.0</td>\n",
              "    </tr>\n",
              "    <tr>\n",
              "      <th>7</th>\n",
              "      <td>Dadra &amp; Nagar Haveli</td>\n",
              "      <td>0.0</td>\n",
              "    </tr>\n",
              "    <tr>\n",
              "      <th>8</th>\n",
              "      <td>Daman &amp; Diu</td>\n",
              "      <td>0.0</td>\n",
              "    </tr>\n",
              "    <tr>\n",
              "      <th>9</th>\n",
              "      <td>Delhi</td>\n",
              "      <td>231.0</td>\n",
              "    </tr>\n",
              "    <tr>\n",
              "      <th>10</th>\n",
              "      <td>Goa</td>\n",
              "      <td>7.0</td>\n",
              "    </tr>\n",
              "    <tr>\n",
              "      <th>11</th>\n",
              "      <td>Gujarat</td>\n",
              "      <td>97.0</td>\n",
              "    </tr>\n",
              "    <tr>\n",
              "      <th>12</th>\n",
              "      <td>Haryana</td>\n",
              "      <td>149.0</td>\n",
              "    </tr>\n",
              "    <tr>\n",
              "      <th>13</th>\n",
              "      <td>Himachal Pradesh</td>\n",
              "      <td>43.0</td>\n",
              "    </tr>\n",
              "    <tr>\n",
              "      <th>14</th>\n",
              "      <td>Jammu &amp; Kashmir</td>\n",
              "      <td>12.0</td>\n",
              "    </tr>\n",
              "    <tr>\n",
              "      <th>15</th>\n",
              "      <td>Jharkhand</td>\n",
              "      <td>321.0</td>\n",
              "    </tr>\n",
              "    <tr>\n",
              "      <th>16</th>\n",
              "      <td>Karnataka</td>\n",
              "      <td>46.0</td>\n",
              "    </tr>\n",
              "    <tr>\n",
              "      <th>17</th>\n",
              "      <td>Kerala</td>\n",
              "      <td>128.0</td>\n",
              "    </tr>\n",
              "    <tr>\n",
              "      <th>18</th>\n",
              "      <td>Lakshadweep</td>\n",
              "      <td>0.0</td>\n",
              "    </tr>\n",
              "    <tr>\n",
              "      <th>19</th>\n",
              "      <td>Madhya Pradesh</td>\n",
              "      <td>865.0</td>\n",
              "    </tr>\n",
              "    <tr>\n",
              "      <th>20</th>\n",
              "      <td>Maharashtra</td>\n",
              "      <td>359.0</td>\n",
              "    </tr>\n",
              "    <tr>\n",
              "      <th>21</th>\n",
              "      <td>Manipur</td>\n",
              "      <td>7.0</td>\n",
              "    </tr>\n",
              "    <tr>\n",
              "      <th>22</th>\n",
              "      <td>Meghalaya</td>\n",
              "      <td>46.0</td>\n",
              "    </tr>\n",
              "    <tr>\n",
              "      <th>23</th>\n",
              "      <td>Mizoram</td>\n",
              "      <td>13.0</td>\n",
              "    </tr>\n",
              "    <tr>\n",
              "      <th>24</th>\n",
              "      <td>Nagaland</td>\n",
              "      <td>4.0</td>\n",
              "    </tr>\n",
              "    <tr>\n",
              "      <th>25</th>\n",
              "      <td>Odisha</td>\n",
              "      <td>73.0</td>\n",
              "    </tr>\n",
              "    <tr>\n",
              "      <th>26</th>\n",
              "      <td>Puducherry</td>\n",
              "      <td>0.0</td>\n",
              "    </tr>\n",
              "    <tr>\n",
              "      <th>27</th>\n",
              "      <td>Punjab</td>\n",
              "      <td>163.0</td>\n",
              "    </tr>\n",
              "    <tr>\n",
              "      <th>28</th>\n",
              "      <td>Rajasthan</td>\n",
              "      <td>337.0</td>\n",
              "    </tr>\n",
              "    <tr>\n",
              "      <th>29</th>\n",
              "      <td>Sikkim</td>\n",
              "      <td>10.0</td>\n",
              "    </tr>\n",
              "    <tr>\n",
              "      <th>30</th>\n",
              "      <td>Tamil Nadu</td>\n",
              "      <td>116.0</td>\n",
              "    </tr>\n",
              "    <tr>\n",
              "      <th>31</th>\n",
              "      <td>Tripura</td>\n",
              "      <td>5.0</td>\n",
              "    </tr>\n",
              "    <tr>\n",
              "      <th>32</th>\n",
              "      <td>Uttar Pradesh</td>\n",
              "      <td>138.0</td>\n",
              "    </tr>\n",
              "    <tr>\n",
              "      <th>33</th>\n",
              "      <td>Uttarakhand</td>\n",
              "      <td>71.0</td>\n",
              "    </tr>\n",
              "    <tr>\n",
              "      <th>34</th>\n",
              "      <td>West Bengal</td>\n",
              "      <td>211.0</td>\n",
              "    </tr>\n",
              "  </tbody>\n",
              "</table>\n",
              "</div>\n",
              "      <button class=\"colab-df-convert\" onclick=\"convertToInteractive('df-72a8fdfe-f965-4e3a-8cee-dcc066be3c79')\"\n",
              "              title=\"Convert this dataframe to an interactive table.\"\n",
              "              style=\"display:none;\">\n",
              "        \n",
              "  <svg xmlns=\"http://www.w3.org/2000/svg\" height=\"24px\"viewBox=\"0 0 24 24\"\n",
              "       width=\"24px\">\n",
              "    <path d=\"M0 0h24v24H0V0z\" fill=\"none\"/>\n",
              "    <path d=\"M18.56 5.44l.94 2.06.94-2.06 2.06-.94-2.06-.94-.94-2.06-.94 2.06-2.06.94zm-11 1L8.5 8.5l.94-2.06 2.06-.94-2.06-.94L8.5 2.5l-.94 2.06-2.06.94zm10 10l.94 2.06.94-2.06 2.06-.94-2.06-.94-.94-2.06-.94 2.06-2.06.94z\"/><path d=\"M17.41 7.96l-1.37-1.37c-.4-.4-.92-.59-1.43-.59-.52 0-1.04.2-1.43.59L10.3 9.45l-7.72 7.72c-.78.78-.78 2.05 0 2.83L4 21.41c.39.39.9.59 1.41.59.51 0 1.02-.2 1.41-.59l7.78-7.78 2.81-2.81c.8-.78.8-2.07 0-2.86zM5.41 20L4 18.59l7.72-7.72 1.47 1.35L5.41 20z\"/>\n",
              "  </svg>\n",
              "      </button>\n",
              "      \n",
              "  <style>\n",
              "    .colab-df-container {\n",
              "      display:flex;\n",
              "      flex-wrap:wrap;\n",
              "      gap: 12px;\n",
              "    }\n",
              "\n",
              "    .colab-df-convert {\n",
              "      background-color: #E8F0FE;\n",
              "      border: none;\n",
              "      border-radius: 50%;\n",
              "      cursor: pointer;\n",
              "      display: none;\n",
              "      fill: #1967D2;\n",
              "      height: 32px;\n",
              "      padding: 0 0 0 0;\n",
              "      width: 32px;\n",
              "    }\n",
              "\n",
              "    .colab-df-convert:hover {\n",
              "      background-color: #E2EBFA;\n",
              "      box-shadow: 0px 1px 2px rgba(60, 64, 67, 0.3), 0px 1px 3px 1px rgba(60, 64, 67, 0.15);\n",
              "      fill: #174EA6;\n",
              "    }\n",
              "\n",
              "    [theme=dark] .colab-df-convert {\n",
              "      background-color: #3B4455;\n",
              "      fill: #D2E3FC;\n",
              "    }\n",
              "\n",
              "    [theme=dark] .colab-df-convert:hover {\n",
              "      background-color: #434B5C;\n",
              "      box-shadow: 0px 1px 3px 1px rgba(0, 0, 0, 0.15);\n",
              "      filter: drop-shadow(0px 1px 2px rgba(0, 0, 0, 0.3));\n",
              "      fill: #FFFFFF;\n",
              "    }\n",
              "  </style>\n",
              "\n",
              "      <script>\n",
              "        const buttonEl =\n",
              "          document.querySelector('#df-72a8fdfe-f965-4e3a-8cee-dcc066be3c79 button.colab-df-convert');\n",
              "        buttonEl.style.display =\n",
              "          google.colab.kernel.accessAllowed ? 'block' : 'none';\n",
              "\n",
              "        async function convertToInteractive(key) {\n",
              "          const element = document.querySelector('#df-72a8fdfe-f965-4e3a-8cee-dcc066be3c79');\n",
              "          const dataTable =\n",
              "            await google.colab.kernel.invokeFunction('convertToInteractive',\n",
              "                                                     [key], {});\n",
              "          if (!dataTable) return;\n",
              "\n",
              "          const docLinkHtml = 'Like what you see? Visit the ' +\n",
              "            '<a target=\"_blank\" href=https://colab.research.google.com/notebooks/data_table.ipynb>data table notebook</a>'\n",
              "            + ' to learn more about interactive tables.';\n",
              "          element.innerHTML = '';\n",
              "          dataTable['output_type'] = 'display_data';\n",
              "          await google.colab.output.renderOutput(dataTable, element);\n",
              "          const docLink = document.createElement('div');\n",
              "          docLink.innerHTML = docLinkHtml;\n",
              "          element.appendChild(docLink);\n",
              "        }\n",
              "      </script>\n",
              "    </div>\n",
              "  </div>\n",
              "  "
            ]
          },
          "metadata": {},
          "execution_count": 115
        }
      ]
    },
    {
      "cell_type": "code",
      "source": [
        "g1.columns=['State/UT','Cases Reported']\n"
      ],
      "metadata": {
        "id": "2bN288iUcy6-"
      },
      "execution_count": null,
      "outputs": []
    },
    {
      "cell_type": "code",
      "source": [
        "fig= px.bar(g1,x='State/UT',y='Cases Reported',color_discrete_sequence=['blue'])\n",
        "fig.show()"
      ],
      "metadata": {
        "colab": {
          "base_uri": "https://localhost:8080/",
          "height": 542
        },
        "id": "kr29L40VdD8H",
        "outputId": "c6996732-5196-493b-ab3d-581d6d307e25"
      },
      "execution_count": null,
      "outputs": [
        {
          "output_type": "display_data",
          "data": {
            "text/html": [
              "<html>\n",
              "<head><meta charset=\"utf-8\" /></head>\n",
              "<body>\n",
              "    <div>            <script src=\"https://cdnjs.cloudflare.com/ajax/libs/mathjax/2.7.5/MathJax.js?config=TeX-AMS-MML_SVG\"></script><script type=\"text/javascript\">if (window.MathJax) {MathJax.Hub.Config({SVG: {font: \"STIX-Web\"}});}</script>                <script type=\"text/javascript\">window.PlotlyConfig = {MathJaxConfig: 'local'};</script>\n",
              "        <script src=\"https://cdn.plot.ly/plotly-2.8.3.min.js\"></script>                <div id=\"ee3c58e7-521c-4082-b07d-0493351e9a1b\" class=\"plotly-graph-div\" style=\"height:525px; width:100%;\"></div>            <script type=\"text/javascript\">                                    window.PLOTLYENV=window.PLOTLYENV || {};                                    if (document.getElementById(\"ee3c58e7-521c-4082-b07d-0493351e9a1b\")) {                    Plotly.newPlot(                        \"ee3c58e7-521c-4082-b07d-0493351e9a1b\",                        [{\"alignmentgroup\":\"True\",\"hovertemplate\":\"State/UT=%{x}<br>Cases Reported=%{y}<extra></extra>\",\"legendgroup\":\"\",\"marker\":{\"color\":\"blue\",\"pattern\":{\"shape\":\"\"}},\"name\":\"\",\"offsetgroup\":\"\",\"orientation\":\"v\",\"showlegend\":false,\"textposition\":\"auto\",\"x\":[\"Andaman & Nicobar Islands\",\"Andhra Pradesh\",\"Arunachal Pradesh\",\"Assam\",\"Bihar\",\"Chandigarh\",\"Chhattisgarh\",\"Dadra & Nagar Haveli\",\"Daman & Diu\",\"Delhi\",\"Goa\",\"Gujarat\",\"Haryana\",\"Himachal Pradesh\",\"Jammu & Kashmir\",\"Jharkhand\",\"Karnataka\",\"Kerala\",\"Lakshadweep\",\"Madhya Pradesh\",\"Maharashtra\",\"Manipur\",\"Meghalaya\",\"Mizoram\",\"Nagaland\",\"Odisha\",\"Puducherry\",\"Punjab\",\"Rajasthan\",\"Sikkim\",\"Tamil Nadu\",\"Tripura\",\"Uttar Pradesh\",\"Uttarakhand\",\"West Bengal\"],\"xaxis\":\"x\",\"y\":[1.0,70.0,0.0,101.0,43.0,17.0,532.0,0.0,0.0,231.0,7.0,97.0,149.0,43.0,12.0,321.0,46.0,128.0,0.0,865.0,359.0,7.0,46.0,13.0,4.0,73.0,0.0,163.0,337.0,10.0,116.0,5.0,138.0,71.0,211.0],\"yaxis\":\"y\",\"type\":\"bar\"}],                        {\"template\":{\"data\":{\"bar\":[{\"error_x\":{\"color\":\"#2a3f5f\"},\"error_y\":{\"color\":\"#2a3f5f\"},\"marker\":{\"line\":{\"color\":\"#E5ECF6\",\"width\":0.5},\"pattern\":{\"fillmode\":\"overlay\",\"size\":10,\"solidity\":0.2}},\"type\":\"bar\"}],\"barpolar\":[{\"marker\":{\"line\":{\"color\":\"#E5ECF6\",\"width\":0.5},\"pattern\":{\"fillmode\":\"overlay\",\"size\":10,\"solidity\":0.2}},\"type\":\"barpolar\"}],\"carpet\":[{\"aaxis\":{\"endlinecolor\":\"#2a3f5f\",\"gridcolor\":\"white\",\"linecolor\":\"white\",\"minorgridcolor\":\"white\",\"startlinecolor\":\"#2a3f5f\"},\"baxis\":{\"endlinecolor\":\"#2a3f5f\",\"gridcolor\":\"white\",\"linecolor\":\"white\",\"minorgridcolor\":\"white\",\"startlinecolor\":\"#2a3f5f\"},\"type\":\"carpet\"}],\"choropleth\":[{\"colorbar\":{\"outlinewidth\":0,\"ticks\":\"\"},\"type\":\"choropleth\"}],\"contour\":[{\"colorbar\":{\"outlinewidth\":0,\"ticks\":\"\"},\"colorscale\":[[0.0,\"#0d0887\"],[0.1111111111111111,\"#46039f\"],[0.2222222222222222,\"#7201a8\"],[0.3333333333333333,\"#9c179e\"],[0.4444444444444444,\"#bd3786\"],[0.5555555555555556,\"#d8576b\"],[0.6666666666666666,\"#ed7953\"],[0.7777777777777778,\"#fb9f3a\"],[0.8888888888888888,\"#fdca26\"],[1.0,\"#f0f921\"]],\"type\":\"contour\"}],\"contourcarpet\":[{\"colorbar\":{\"outlinewidth\":0,\"ticks\":\"\"},\"type\":\"contourcarpet\"}],\"heatmap\":[{\"colorbar\":{\"outlinewidth\":0,\"ticks\":\"\"},\"colorscale\":[[0.0,\"#0d0887\"],[0.1111111111111111,\"#46039f\"],[0.2222222222222222,\"#7201a8\"],[0.3333333333333333,\"#9c179e\"],[0.4444444444444444,\"#bd3786\"],[0.5555555555555556,\"#d8576b\"],[0.6666666666666666,\"#ed7953\"],[0.7777777777777778,\"#fb9f3a\"],[0.8888888888888888,\"#fdca26\"],[1.0,\"#f0f921\"]],\"type\":\"heatmap\"}],\"heatmapgl\":[{\"colorbar\":{\"outlinewidth\":0,\"ticks\":\"\"},\"colorscale\":[[0.0,\"#0d0887\"],[0.1111111111111111,\"#46039f\"],[0.2222222222222222,\"#7201a8\"],[0.3333333333333333,\"#9c179e\"],[0.4444444444444444,\"#bd3786\"],[0.5555555555555556,\"#d8576b\"],[0.6666666666666666,\"#ed7953\"],[0.7777777777777778,\"#fb9f3a\"],[0.8888888888888888,\"#fdca26\"],[1.0,\"#f0f921\"]],\"type\":\"heatmapgl\"}],\"histogram\":[{\"marker\":{\"pattern\":{\"fillmode\":\"overlay\",\"size\":10,\"solidity\":0.2}},\"type\":\"histogram\"}],\"histogram2d\":[{\"colorbar\":{\"outlinewidth\":0,\"ticks\":\"\"},\"colorscale\":[[0.0,\"#0d0887\"],[0.1111111111111111,\"#46039f\"],[0.2222222222222222,\"#7201a8\"],[0.3333333333333333,\"#9c179e\"],[0.4444444444444444,\"#bd3786\"],[0.5555555555555556,\"#d8576b\"],[0.6666666666666666,\"#ed7953\"],[0.7777777777777778,\"#fb9f3a\"],[0.8888888888888888,\"#fdca26\"],[1.0,\"#f0f921\"]],\"type\":\"histogram2d\"}],\"histogram2dcontour\":[{\"colorbar\":{\"outlinewidth\":0,\"ticks\":\"\"},\"colorscale\":[[0.0,\"#0d0887\"],[0.1111111111111111,\"#46039f\"],[0.2222222222222222,\"#7201a8\"],[0.3333333333333333,\"#9c179e\"],[0.4444444444444444,\"#bd3786\"],[0.5555555555555556,\"#d8576b\"],[0.6666666666666666,\"#ed7953\"],[0.7777777777777778,\"#fb9f3a\"],[0.8888888888888888,\"#fdca26\"],[1.0,\"#f0f921\"]],\"type\":\"histogram2dcontour\"}],\"mesh3d\":[{\"colorbar\":{\"outlinewidth\":0,\"ticks\":\"\"},\"type\":\"mesh3d\"}],\"parcoords\":[{\"line\":{\"colorbar\":{\"outlinewidth\":0,\"ticks\":\"\"}},\"type\":\"parcoords\"}],\"pie\":[{\"automargin\":true,\"type\":\"pie\"}],\"scatter\":[{\"marker\":{\"colorbar\":{\"outlinewidth\":0,\"ticks\":\"\"}},\"type\":\"scatter\"}],\"scatter3d\":[{\"line\":{\"colorbar\":{\"outlinewidth\":0,\"ticks\":\"\"}},\"marker\":{\"colorbar\":{\"outlinewidth\":0,\"ticks\":\"\"}},\"type\":\"scatter3d\"}],\"scattercarpet\":[{\"marker\":{\"colorbar\":{\"outlinewidth\":0,\"ticks\":\"\"}},\"type\":\"scattercarpet\"}],\"scattergeo\":[{\"marker\":{\"colorbar\":{\"outlinewidth\":0,\"ticks\":\"\"}},\"type\":\"scattergeo\"}],\"scattergl\":[{\"marker\":{\"colorbar\":{\"outlinewidth\":0,\"ticks\":\"\"}},\"type\":\"scattergl\"}],\"scattermapbox\":[{\"marker\":{\"colorbar\":{\"outlinewidth\":0,\"ticks\":\"\"}},\"type\":\"scattermapbox\"}],\"scatterpolar\":[{\"marker\":{\"colorbar\":{\"outlinewidth\":0,\"ticks\":\"\"}},\"type\":\"scatterpolar\"}],\"scatterpolargl\":[{\"marker\":{\"colorbar\":{\"outlinewidth\":0,\"ticks\":\"\"}},\"type\":\"scatterpolargl\"}],\"scatterternary\":[{\"marker\":{\"colorbar\":{\"outlinewidth\":0,\"ticks\":\"\"}},\"type\":\"scatterternary\"}],\"surface\":[{\"colorbar\":{\"outlinewidth\":0,\"ticks\":\"\"},\"colorscale\":[[0.0,\"#0d0887\"],[0.1111111111111111,\"#46039f\"],[0.2222222222222222,\"#7201a8\"],[0.3333333333333333,\"#9c179e\"],[0.4444444444444444,\"#bd3786\"],[0.5555555555555556,\"#d8576b\"],[0.6666666666666666,\"#ed7953\"],[0.7777777777777778,\"#fb9f3a\"],[0.8888888888888888,\"#fdca26\"],[1.0,\"#f0f921\"]],\"type\":\"surface\"}],\"table\":[{\"cells\":{\"fill\":{\"color\":\"#EBF0F8\"},\"line\":{\"color\":\"white\"}},\"header\":{\"fill\":{\"color\":\"#C8D4E3\"},\"line\":{\"color\":\"white\"}},\"type\":\"table\"}]},\"layout\":{\"annotationdefaults\":{\"arrowcolor\":\"#2a3f5f\",\"arrowhead\":0,\"arrowwidth\":1},\"autotypenumbers\":\"strict\",\"coloraxis\":{\"colorbar\":{\"outlinewidth\":0,\"ticks\":\"\"}},\"colorscale\":{\"diverging\":[[0,\"#8e0152\"],[0.1,\"#c51b7d\"],[0.2,\"#de77ae\"],[0.3,\"#f1b6da\"],[0.4,\"#fde0ef\"],[0.5,\"#f7f7f7\"],[0.6,\"#e6f5d0\"],[0.7,\"#b8e186\"],[0.8,\"#7fbc41\"],[0.9,\"#4d9221\"],[1,\"#276419\"]],\"sequential\":[[0.0,\"#0d0887\"],[0.1111111111111111,\"#46039f\"],[0.2222222222222222,\"#7201a8\"],[0.3333333333333333,\"#9c179e\"],[0.4444444444444444,\"#bd3786\"],[0.5555555555555556,\"#d8576b\"],[0.6666666666666666,\"#ed7953\"],[0.7777777777777778,\"#fb9f3a\"],[0.8888888888888888,\"#fdca26\"],[1.0,\"#f0f921\"]],\"sequentialminus\":[[0.0,\"#0d0887\"],[0.1111111111111111,\"#46039f\"],[0.2222222222222222,\"#7201a8\"],[0.3333333333333333,\"#9c179e\"],[0.4444444444444444,\"#bd3786\"],[0.5555555555555556,\"#d8576b\"],[0.6666666666666666,\"#ed7953\"],[0.7777777777777778,\"#fb9f3a\"],[0.8888888888888888,\"#fdca26\"],[1.0,\"#f0f921\"]]},\"colorway\":[\"#636efa\",\"#EF553B\",\"#00cc96\",\"#ab63fa\",\"#FFA15A\",\"#19d3f3\",\"#FF6692\",\"#B6E880\",\"#FF97FF\",\"#FECB52\"],\"font\":{\"color\":\"#2a3f5f\"},\"geo\":{\"bgcolor\":\"white\",\"lakecolor\":\"white\",\"landcolor\":\"#E5ECF6\",\"showlakes\":true,\"showland\":true,\"subunitcolor\":\"white\"},\"hoverlabel\":{\"align\":\"left\"},\"hovermode\":\"closest\",\"mapbox\":{\"style\":\"light\"},\"paper_bgcolor\":\"white\",\"plot_bgcolor\":\"#E5ECF6\",\"polar\":{\"angularaxis\":{\"gridcolor\":\"white\",\"linecolor\":\"white\",\"ticks\":\"\"},\"bgcolor\":\"#E5ECF6\",\"radialaxis\":{\"gridcolor\":\"white\",\"linecolor\":\"white\",\"ticks\":\"\"}},\"scene\":{\"xaxis\":{\"backgroundcolor\":\"#E5ECF6\",\"gridcolor\":\"white\",\"gridwidth\":2,\"linecolor\":\"white\",\"showbackground\":true,\"ticks\":\"\",\"zerolinecolor\":\"white\"},\"yaxis\":{\"backgroundcolor\":\"#E5ECF6\",\"gridcolor\":\"white\",\"gridwidth\":2,\"linecolor\":\"white\",\"showbackground\":true,\"ticks\":\"\",\"zerolinecolor\":\"white\"},\"zaxis\":{\"backgroundcolor\":\"#E5ECF6\",\"gridcolor\":\"white\",\"gridwidth\":2,\"linecolor\":\"white\",\"showbackground\":true,\"ticks\":\"\",\"zerolinecolor\":\"white\"}},\"shapedefaults\":{\"line\":{\"color\":\"#2a3f5f\"}},\"ternary\":{\"aaxis\":{\"gridcolor\":\"white\",\"linecolor\":\"white\",\"ticks\":\"\"},\"baxis\":{\"gridcolor\":\"white\",\"linecolor\":\"white\",\"ticks\":\"\"},\"bgcolor\":\"#E5ECF6\",\"caxis\":{\"gridcolor\":\"white\",\"linecolor\":\"white\",\"ticks\":\"\"}},\"title\":{\"x\":0.05},\"xaxis\":{\"automargin\":true,\"gridcolor\":\"white\",\"linecolor\":\"white\",\"ticks\":\"\",\"title\":{\"standoff\":15},\"zerolinecolor\":\"white\",\"zerolinewidth\":2},\"yaxis\":{\"automargin\":true,\"gridcolor\":\"white\",\"linecolor\":\"white\",\"ticks\":\"\",\"title\":{\"standoff\":15},\"zerolinecolor\":\"white\",\"zerolinewidth\":2}}},\"xaxis\":{\"anchor\":\"y\",\"domain\":[0.0,1.0],\"title\":{\"text\":\"State/UT\"}},\"yaxis\":{\"anchor\":\"x\",\"domain\":[0.0,1.0],\"title\":{\"text\":\"Cases Reported\"}},\"legend\":{\"tracegroupgap\":0},\"margin\":{\"t\":60},\"barmode\":\"relative\"},                        {\"responsive\": true}                    ).then(function(){\n",
              "                            \n",
              "var gd = document.getElementById('ee3c58e7-521c-4082-b07d-0493351e9a1b');\n",
              "var x = new MutationObserver(function (mutations, observer) {{\n",
              "        var display = window.getComputedStyle(gd).display;\n",
              "        if (!display || display === 'none') {{\n",
              "            console.log([gd, 'removed!']);\n",
              "            Plotly.purge(gd);\n",
              "            observer.disconnect();\n",
              "        }}\n",
              "}});\n",
              "\n",
              "// Listen for the removal of the full notebook cells\n",
              "var notebookContainer = gd.closest('#notebook-container');\n",
              "if (notebookContainer) {{\n",
              "    x.observe(notebookContainer, {childList: true});\n",
              "}}\n",
              "\n",
              "// Listen for the clearing of the current output cell\n",
              "var outputEl = gd.closest('.output');\n",
              "if (outputEl) {{\n",
              "    x.observe(outputEl, {childList: true});\n",
              "}}\n",
              "\n",
              "                        })                };                            </script>        </div>\n",
              "</body>\n",
              "</html>"
            ]
          },
          "metadata": {}
        }
      ]
    },
    {
      "cell_type": "code",
      "execution_count": null,
      "metadata": {
        "execution": {
          "iopub.execute_input": "2020-10-16T04:48:30.580521Z",
          "iopub.status.busy": "2020-10-16T04:48:30.574435Z",
          "iopub.status.idle": "2020-10-16T04:48:30.698484Z",
          "shell.execute_reply": "2020-10-16T04:48:30.699233Z"
        },
        "papermill": {
          "duration": 0.18042,
          "end_time": "2020-10-16T04:48:30.699407",
          "exception": false,
          "start_time": "2020-10-16T04:48:30.518987",
          "status": "completed"
        },
        "tags": [],
        "colab": {
          "base_uri": "https://localhost:8080/",
          "height": 542
        },
        "id": "TghifHezVGFX",
        "outputId": "0a12e985-ec15-41cf-a9dd-3a7eb21a9f1d"
      },
      "outputs": [
        {
          "output_type": "display_data",
          "data": {
            "text/html": [
              "<html>\n",
              "<head><meta charset=\"utf-8\" /></head>\n",
              "<body>\n",
              "    <div>            <script src=\"https://cdnjs.cloudflare.com/ajax/libs/mathjax/2.7.5/MathJax.js?config=TeX-AMS-MML_SVG\"></script><script type=\"text/javascript\">if (window.MathJax) {MathJax.Hub.Config({SVG: {font: \"STIX-Web\"}});}</script>                <script type=\"text/javascript\">window.PlotlyConfig = {MathJaxConfig: 'local'};</script>\n",
              "        <script src=\"https://cdn.plot.ly/plotly-2.8.3.min.js\"></script>                <div id=\"ff102449-fb2a-4038-ad3b-12a8fbda1712\" class=\"plotly-graph-div\" style=\"height:525px; width:100%;\"></div>            <script type=\"text/javascript\">                                    window.PLOTLYENV=window.PLOTLYENV || {};                                    if (document.getElementById(\"ff102449-fb2a-4038-ad3b-12a8fbda1712\")) {                    Plotly.newPlot(                        \"ff102449-fb2a-4038-ad3b-12a8fbda1712\",                        [{\"labels\":[\"Upto 10\",\"10 to 14\",\"14 to 18\",\"18 to 30\",\"30 to 50\",\"Above 50\"],\"marker\":{\"colors\":[\"#3366CC\",\"#DC3912\",\"#FF9900\",\"#109618\",\"#990099\",\"#0099C6\",\"#DD4477\",\"#66AA00\",\"#B82E2E\",\"#316395\"]},\"textfont\":{\"size\":12},\"values\":[10936.0,24840.0,55740.0,223584.0,63248.0,1960.0],\"type\":\"pie\"}],                        {\"template\":{\"data\":{\"bar\":[{\"error_x\":{\"color\":\"#2a3f5f\"},\"error_y\":{\"color\":\"#2a3f5f\"},\"marker\":{\"line\":{\"color\":\"#E5ECF6\",\"width\":0.5},\"pattern\":{\"fillmode\":\"overlay\",\"size\":10,\"solidity\":0.2}},\"type\":\"bar\"}],\"barpolar\":[{\"marker\":{\"line\":{\"color\":\"#E5ECF6\",\"width\":0.5},\"pattern\":{\"fillmode\":\"overlay\",\"size\":10,\"solidity\":0.2}},\"type\":\"barpolar\"}],\"carpet\":[{\"aaxis\":{\"endlinecolor\":\"#2a3f5f\",\"gridcolor\":\"white\",\"linecolor\":\"white\",\"minorgridcolor\":\"white\",\"startlinecolor\":\"#2a3f5f\"},\"baxis\":{\"endlinecolor\":\"#2a3f5f\",\"gridcolor\":\"white\",\"linecolor\":\"white\",\"minorgridcolor\":\"white\",\"startlinecolor\":\"#2a3f5f\"},\"type\":\"carpet\"}],\"choropleth\":[{\"colorbar\":{\"outlinewidth\":0,\"ticks\":\"\"},\"type\":\"choropleth\"}],\"contour\":[{\"colorbar\":{\"outlinewidth\":0,\"ticks\":\"\"},\"colorscale\":[[0.0,\"#0d0887\"],[0.1111111111111111,\"#46039f\"],[0.2222222222222222,\"#7201a8\"],[0.3333333333333333,\"#9c179e\"],[0.4444444444444444,\"#bd3786\"],[0.5555555555555556,\"#d8576b\"],[0.6666666666666666,\"#ed7953\"],[0.7777777777777778,\"#fb9f3a\"],[0.8888888888888888,\"#fdca26\"],[1.0,\"#f0f921\"]],\"type\":\"contour\"}],\"contourcarpet\":[{\"colorbar\":{\"outlinewidth\":0,\"ticks\":\"\"},\"type\":\"contourcarpet\"}],\"heatmap\":[{\"colorbar\":{\"outlinewidth\":0,\"ticks\":\"\"},\"colorscale\":[[0.0,\"#0d0887\"],[0.1111111111111111,\"#46039f\"],[0.2222222222222222,\"#7201a8\"],[0.3333333333333333,\"#9c179e\"],[0.4444444444444444,\"#bd3786\"],[0.5555555555555556,\"#d8576b\"],[0.6666666666666666,\"#ed7953\"],[0.7777777777777778,\"#fb9f3a\"],[0.8888888888888888,\"#fdca26\"],[1.0,\"#f0f921\"]],\"type\":\"heatmap\"}],\"heatmapgl\":[{\"colorbar\":{\"outlinewidth\":0,\"ticks\":\"\"},\"colorscale\":[[0.0,\"#0d0887\"],[0.1111111111111111,\"#46039f\"],[0.2222222222222222,\"#7201a8\"],[0.3333333333333333,\"#9c179e\"],[0.4444444444444444,\"#bd3786\"],[0.5555555555555556,\"#d8576b\"],[0.6666666666666666,\"#ed7953\"],[0.7777777777777778,\"#fb9f3a\"],[0.8888888888888888,\"#fdca26\"],[1.0,\"#f0f921\"]],\"type\":\"heatmapgl\"}],\"histogram\":[{\"marker\":{\"pattern\":{\"fillmode\":\"overlay\",\"size\":10,\"solidity\":0.2}},\"type\":\"histogram\"}],\"histogram2d\":[{\"colorbar\":{\"outlinewidth\":0,\"ticks\":\"\"},\"colorscale\":[[0.0,\"#0d0887\"],[0.1111111111111111,\"#46039f\"],[0.2222222222222222,\"#7201a8\"],[0.3333333333333333,\"#9c179e\"],[0.4444444444444444,\"#bd3786\"],[0.5555555555555556,\"#d8576b\"],[0.6666666666666666,\"#ed7953\"],[0.7777777777777778,\"#fb9f3a\"],[0.8888888888888888,\"#fdca26\"],[1.0,\"#f0f921\"]],\"type\":\"histogram2d\"}],\"histogram2dcontour\":[{\"colorbar\":{\"outlinewidth\":0,\"ticks\":\"\"},\"colorscale\":[[0.0,\"#0d0887\"],[0.1111111111111111,\"#46039f\"],[0.2222222222222222,\"#7201a8\"],[0.3333333333333333,\"#9c179e\"],[0.4444444444444444,\"#bd3786\"],[0.5555555555555556,\"#d8576b\"],[0.6666666666666666,\"#ed7953\"],[0.7777777777777778,\"#fb9f3a\"],[0.8888888888888888,\"#fdca26\"],[1.0,\"#f0f921\"]],\"type\":\"histogram2dcontour\"}],\"mesh3d\":[{\"colorbar\":{\"outlinewidth\":0,\"ticks\":\"\"},\"type\":\"mesh3d\"}],\"parcoords\":[{\"line\":{\"colorbar\":{\"outlinewidth\":0,\"ticks\":\"\"}},\"type\":\"parcoords\"}],\"pie\":[{\"automargin\":true,\"type\":\"pie\"}],\"scatter\":[{\"marker\":{\"colorbar\":{\"outlinewidth\":0,\"ticks\":\"\"}},\"type\":\"scatter\"}],\"scatter3d\":[{\"line\":{\"colorbar\":{\"outlinewidth\":0,\"ticks\":\"\"}},\"marker\":{\"colorbar\":{\"outlinewidth\":0,\"ticks\":\"\"}},\"type\":\"scatter3d\"}],\"scattercarpet\":[{\"marker\":{\"colorbar\":{\"outlinewidth\":0,\"ticks\":\"\"}},\"type\":\"scattercarpet\"}],\"scattergeo\":[{\"marker\":{\"colorbar\":{\"outlinewidth\":0,\"ticks\":\"\"}},\"type\":\"scattergeo\"}],\"scattergl\":[{\"marker\":{\"colorbar\":{\"outlinewidth\":0,\"ticks\":\"\"}},\"type\":\"scattergl\"}],\"scattermapbox\":[{\"marker\":{\"colorbar\":{\"outlinewidth\":0,\"ticks\":\"\"}},\"type\":\"scattermapbox\"}],\"scatterpolar\":[{\"marker\":{\"colorbar\":{\"outlinewidth\":0,\"ticks\":\"\"}},\"type\":\"scatterpolar\"}],\"scatterpolargl\":[{\"marker\":{\"colorbar\":{\"outlinewidth\":0,\"ticks\":\"\"}},\"type\":\"scatterpolargl\"}],\"scatterternary\":[{\"marker\":{\"colorbar\":{\"outlinewidth\":0,\"ticks\":\"\"}},\"type\":\"scatterternary\"}],\"surface\":[{\"colorbar\":{\"outlinewidth\":0,\"ticks\":\"\"},\"colorscale\":[[0.0,\"#0d0887\"],[0.1111111111111111,\"#46039f\"],[0.2222222222222222,\"#7201a8\"],[0.3333333333333333,\"#9c179e\"],[0.4444444444444444,\"#bd3786\"],[0.5555555555555556,\"#d8576b\"],[0.6666666666666666,\"#ed7953\"],[0.7777777777777778,\"#fb9f3a\"],[0.8888888888888888,\"#fdca26\"],[1.0,\"#f0f921\"]],\"type\":\"surface\"}],\"table\":[{\"cells\":{\"fill\":{\"color\":\"#EBF0F8\"},\"line\":{\"color\":\"white\"}},\"header\":{\"fill\":{\"color\":\"#C8D4E3\"},\"line\":{\"color\":\"white\"}},\"type\":\"table\"}]},\"layout\":{\"annotationdefaults\":{\"arrowcolor\":\"#2a3f5f\",\"arrowhead\":0,\"arrowwidth\":1},\"autotypenumbers\":\"strict\",\"coloraxis\":{\"colorbar\":{\"outlinewidth\":0,\"ticks\":\"\"}},\"colorscale\":{\"diverging\":[[0,\"#8e0152\"],[0.1,\"#c51b7d\"],[0.2,\"#de77ae\"],[0.3,\"#f1b6da\"],[0.4,\"#fde0ef\"],[0.5,\"#f7f7f7\"],[0.6,\"#e6f5d0\"],[0.7,\"#b8e186\"],[0.8,\"#7fbc41\"],[0.9,\"#4d9221\"],[1,\"#276419\"]],\"sequential\":[[0.0,\"#0d0887\"],[0.1111111111111111,\"#46039f\"],[0.2222222222222222,\"#7201a8\"],[0.3333333333333333,\"#9c179e\"],[0.4444444444444444,\"#bd3786\"],[0.5555555555555556,\"#d8576b\"],[0.6666666666666666,\"#ed7953\"],[0.7777777777777778,\"#fb9f3a\"],[0.8888888888888888,\"#fdca26\"],[1.0,\"#f0f921\"]],\"sequentialminus\":[[0.0,\"#0d0887\"],[0.1111111111111111,\"#46039f\"],[0.2222222222222222,\"#7201a8\"],[0.3333333333333333,\"#9c179e\"],[0.4444444444444444,\"#bd3786\"],[0.5555555555555556,\"#d8576b\"],[0.6666666666666666,\"#ed7953\"],[0.7777777777777778,\"#fb9f3a\"],[0.8888888888888888,\"#fdca26\"],[1.0,\"#f0f921\"]]},\"colorway\":[\"#636efa\",\"#EF553B\",\"#00cc96\",\"#ab63fa\",\"#FFA15A\",\"#19d3f3\",\"#FF6692\",\"#B6E880\",\"#FF97FF\",\"#FECB52\"],\"font\":{\"color\":\"#2a3f5f\"},\"geo\":{\"bgcolor\":\"white\",\"lakecolor\":\"white\",\"landcolor\":\"#E5ECF6\",\"showlakes\":true,\"showland\":true,\"subunitcolor\":\"white\"},\"hoverlabel\":{\"align\":\"left\"},\"hovermode\":\"closest\",\"mapbox\":{\"style\":\"light\"},\"paper_bgcolor\":\"white\",\"plot_bgcolor\":\"#E5ECF6\",\"polar\":{\"angularaxis\":{\"gridcolor\":\"white\",\"linecolor\":\"white\",\"ticks\":\"\"},\"bgcolor\":\"#E5ECF6\",\"radialaxis\":{\"gridcolor\":\"white\",\"linecolor\":\"white\",\"ticks\":\"\"}},\"scene\":{\"xaxis\":{\"backgroundcolor\":\"#E5ECF6\",\"gridcolor\":\"white\",\"gridwidth\":2,\"linecolor\":\"white\",\"showbackground\":true,\"ticks\":\"\",\"zerolinecolor\":\"white\"},\"yaxis\":{\"backgroundcolor\":\"#E5ECF6\",\"gridcolor\":\"white\",\"gridwidth\":2,\"linecolor\":\"white\",\"showbackground\":true,\"ticks\":\"\",\"zerolinecolor\":\"white\"},\"zaxis\":{\"backgroundcolor\":\"#E5ECF6\",\"gridcolor\":\"white\",\"gridwidth\":2,\"linecolor\":\"white\",\"showbackground\":true,\"ticks\":\"\",\"zerolinecolor\":\"white\"}},\"shapedefaults\":{\"line\":{\"color\":\"#2a3f5f\"}},\"ternary\":{\"aaxis\":{\"gridcolor\":\"white\",\"linecolor\":\"white\",\"ticks\":\"\"},\"baxis\":{\"gridcolor\":\"white\",\"linecolor\":\"white\",\"ticks\":\"\"},\"bgcolor\":\"#E5ECF6\",\"caxis\":{\"gridcolor\":\"white\",\"linecolor\":\"white\",\"ticks\":\"\"}},\"title\":{\"x\":0.05},\"xaxis\":{\"automargin\":true,\"gridcolor\":\"white\",\"linecolor\":\"white\",\"ticks\":\"\",\"title\":{\"standoff\":15},\"zerolinecolor\":\"white\",\"zerolinewidth\":2},\"yaxis\":{\"automargin\":true,\"gridcolor\":\"white\",\"linecolor\":\"white\",\"ticks\":\"\",\"title\":{\"standoff\":15},\"zerolinecolor\":\"white\",\"zerolinewidth\":2}}}},                        {\"responsive\": true}                    ).then(function(){\n",
              "                            \n",
              "var gd = document.getElementById('ff102449-fb2a-4038-ad3b-12a8fbda1712');\n",
              "var x = new MutationObserver(function (mutations, observer) {{\n",
              "        var display = window.getComputedStyle(gd).display;\n",
              "        if (!display || display === 'none') {{\n",
              "            console.log([gd, 'removed!']);\n",
              "            Plotly.purge(gd);\n",
              "            observer.disconnect();\n",
              "        }}\n",
              "}});\n",
              "\n",
              "// Listen for the removal of the full notebook cells\n",
              "var notebookContainer = gd.closest('#notebook-container');\n",
              "if (notebookContainer) {{\n",
              "    x.observe(notebookContainer, {childList: true});\n",
              "}}\n",
              "\n",
              "// Listen for the clearing of the current output cell\n",
              "var outputEl = gd.closest('.output');\n",
              "if (outputEl) {{\n",
              "    x.observe(outputEl, {childList: true});\n",
              "}}\n",
              "\n",
              "                        })                };                            </script>        </div>\n",
              "</body>\n",
              "</html>"
            ]
          },
          "metadata": {}
        }
      ],
      "source": [
        "import plotly.graph_objects as go\n",
        "Victims_above_50 = df['Victims_Above_50_Yrs'].sum()\n",
        "Victims_30_to_50 = df['Victims_Between_30-50_Yrs'].sum()\n",
        "Victims_18_to_38 = df['Victims_Between_18-30_Yrs'].sum()\n",
        "Victims_14_to_18 = df['Victims_Between_14-18_Yrs'].sum()\n",
        "Victims_10_to_14 = df['Victims_Between_10-14_Yrs'].sum()\n",
        "Victims_upto_10 = df['Victims_Upto_10_Yrs'].sum()\n",
        "\n",
        "age_grp = ['Upto 10','10 to 14','14 to 18','18 to 30','30 to 50','Above 50']\n",
        "age_group_vals = [Victims_upto_10,Victims_10_to_14,Victims_14_to_18,Victims_18_to_38,Victims_30_to_50,Victims_above_50]\n",
        "\n",
        "fig = go.Figure(data=[go.Pie(labels=age_grp, values=age_group_vals,\n",
        "                            marker=dict(colors=px.colors.qualitative.G10),textfont_size=12)])\n",
        "\n",
        "fig.show()"
      ]
    },
    {
      "cell_type": "markdown",
      "metadata": {
        "papermill": {
          "duration": 0.044448,
          "end_time": "2020-10-16T04:48:30.794802",
          "exception": false,
          "start_time": "2020-10-16T04:48:30.750354",
          "status": "completed"
        },
        "tags": [],
        "id": "bNZWQvFBVGFY"
      },
      "source": [
        "Cases reported each year"
      ]
    },
    {
      "cell_type": "code",
      "execution_count": null,
      "metadata": {
        "execution": {
          "iopub.execute_input": "2020-10-16T04:48:30.899543Z",
          "iopub.status.busy": "2020-10-16T04:48:30.898756Z",
          "iopub.status.idle": "2020-10-16T04:48:31.464466Z",
          "shell.execute_reply": "2020-10-16T04:48:31.463730Z"
        },
        "papermill": {
          "duration": 0.624201,
          "end_time": "2020-10-16T04:48:31.464592",
          "exception": false,
          "start_time": "2020-10-16T04:48:30.840391",
          "status": "completed"
        },
        "tags": [],
        "colab": {
          "base_uri": "https://localhost:8080/",
          "height": 302
        },
        "id": "Oz0QZ0KrVGFZ",
        "outputId": "4c4ef026-da5d-4ee1-8c39-d267864968ff"
      },
      "outputs": [
        {
          "output_type": "execute_result",
          "data": {
            "text/plain": [
              "<matplotlib.axes._subplots.AxesSubplot at 0x7f8e1c644850>"
            ]
          },
          "metadata": {},
          "execution_count": 119
        },
        {
          "output_type": "display_data",
          "data": {
            "text/plain": [
              "<Figure size 432x288 with 1 Axes>"
            ],
            "image/png": "[encoded data removed]"
          },
          "metadata": {
            "needs_background": "light"
          }
        }
      ],
      "source": [
        "sns.barplot(x=\"Year\", y=\"Rape_Cases_Reported\", data=df)"
      ]
    },
    {
      "cell_type": "markdown",
      "metadata": {
        "papermill": {
          "duration": 0.054173,
          "end_time": "2020-10-16T04:48:31.565132",
          "exception": false,
          "start_time": "2020-10-16T04:48:31.510959",
          "status": "completed"
        },
        "tags": [],
        "id": "XiRpOxc_VGFa"
      },
      "source": [
        "Age group wise distribution of victims"
      ]
    },
    {
      "cell_type": "code",
      "execution_count": null,
      "metadata": {
        "execution": {
          "iopub.execute_input": "2020-10-16T04:48:31.667378Z",
          "iopub.status.busy": "2020-10-16T04:48:31.666547Z",
          "iopub.status.idle": "2020-10-16T04:48:31.995239Z",
          "shell.execute_reply": "2020-10-16T04:48:31.994602Z"
        },
        "papermill": {
          "duration": 0.383782,
          "end_time": "2020-10-16T04:48:31.995377",
          "exception": false,
          "start_time": "2020-10-16T04:48:31.611595",
          "status": "completed"
        },
        "tags": [],
        "colab": {
          "base_uri": "https://localhost:8080/",
          "height": 320
        },
        "id": "8IRbIv6HVGFa",
        "outputId": "4214dd92-2859-4f5a-c247-48042ca9c46b"
      },
      "outputs": [
        {
          "output_type": "execute_result",
          "data": {
            "text/plain": [
              "<Figure size 432x288 with 0 Axes>"
            ]
          },
          "metadata": {},
          "execution_count": 120
        },
        {
          "output_type": "display_data",
          "data": {
            "text/plain": [
              "<Figure size 432x288 with 1 Axes>"
            ],
            "image/png": "[encoded data removed]"
          },
          "metadata": {
            "needs_background": "light"
          }
        },
        {
          "output_type": "display_data",
          "data": {
            "text/plain": [
              "<Figure size 432x288 with 0 Axes>"
            ]
          },
          "metadata": {}
        }
      ],
      "source": [
        "sns.barplot(x=\"Subgroup\", y=\"Victims_Above_50_Yrs\", data=df)\n",
        "plt.figure()"
      ]
    },
    {
      "cell_type": "code",
      "execution_count": null,
      "metadata": {
        "execution": {
          "iopub.execute_input": "2020-10-16T04:48:32.102216Z",
          "iopub.status.busy": "2020-10-16T04:48:32.098778Z",
          "iopub.status.idle": "2020-10-16T04:48:32.373199Z",
          "shell.execute_reply": "2020-10-16T04:48:32.372585Z"
        },
        "papermill": {
          "duration": 0.329549,
          "end_time": "2020-10-16T04:48:32.373334",
          "exception": false,
          "start_time": "2020-10-16T04:48:32.043785",
          "status": "completed"
        },
        "tags": [],
        "colab": {
          "base_uri": "https://localhost:8080/",
          "height": 320
        },
        "id": "3ByA94XAVGFc",
        "outputId": "b80ade72-551d-42c9-a241-fcaace597d9a"
      },
      "outputs": [
        {
          "output_type": "execute_result",
          "data": {
            "text/plain": [
              "<Figure size 576x576 with 0 Axes>"
            ]
          },
          "metadata": {},
          "execution_count": 121
        },
        {
          "output_type": "display_data",
          "data": {
            "text/plain": [
              "<Figure size 432x288 with 1 Axes>"
            ],
            "image/png": "[encoded data removed]"
          },
          "metadata": {
            "needs_background": "light"
          }
        },
        {
          "output_type": "display_data",
          "data": {
            "text/plain": [
              "<Figure size 576x576 with 0 Axes>"
            ]
          },
          "metadata": {}
        }
      ],
      "source": [
        "sns.barplot(x=\"Subgroup\", y=\"Victims_Between_30-50_Yrs\", data=df)\n",
        "plt.figure(figsize=(8,8))"
      ]
    },
    {
      "cell_type": "code",
      "execution_count": null,
      "metadata": {
        "execution": {
          "iopub.execute_input": "2020-10-16T04:48:32.487234Z",
          "iopub.status.busy": "2020-10-16T04:48:32.484645Z",
          "iopub.status.idle": "2020-10-16T04:48:32.765611Z",
          "shell.execute_reply": "2020-10-16T04:48:32.766235Z"
        },
        "papermill": {
          "duration": 0.339449,
          "end_time": "2020-10-16T04:48:32.766418",
          "exception": false,
          "start_time": "2020-10-16T04:48:32.426969",
          "status": "completed"
        },
        "tags": [],
        "colab": {
          "base_uri": "https://localhost:8080/",
          "height": 302
        },
        "id": "MvYvSNhRVGFd",
        "outputId": "13345cd9-1029-4edb-ecb3-cbd1f81dfc2d"
      },
      "outputs": [
        {
          "output_type": "execute_result",
          "data": {
            "text/plain": [
              "<function matplotlib.pyplot.figure>"
            ]
          },
          "metadata": {},
          "execution_count": 122
        },
        {
          "output_type": "display_data",
          "data": {
            "text/plain": [
              "<Figure size 432x288 with 1 Axes>"
            ],
            "image/png": "[encoded data removed]"
          },
          "metadata": {
            "needs_background": "light"
          }
        }
      ],
      "source": [
        "sns.barplot(x=\"Subgroup\", y=\"Victims_Between_18-30_Yrs\", data=df)\n",
        "plt.figure"
      ]
    },
    {
      "cell_type": "code",
      "execution_count": null,
      "metadata": {
        "execution": {
          "iopub.execute_input": "2020-10-16T04:48:32.883774Z",
          "iopub.status.busy": "2020-10-16T04:48:32.882067Z",
          "iopub.status.idle": "2020-10-16T04:48:33.146428Z",
          "shell.execute_reply": "2020-10-16T04:48:33.145782Z"
        },
        "papermill": {
          "duration": 0.327031,
          "end_time": "2020-10-16T04:48:33.146553",
          "exception": false,
          "start_time": "2020-10-16T04:48:32.819522",
          "status": "completed"
        },
        "tags": [],
        "colab": {
          "base_uri": "https://localhost:8080/",
          "height": 302
        },
        "id": "WAXd85u9VGFe",
        "outputId": "39fe182b-07bf-427e-c43e-1a9adc0621ed"
      },
      "outputs": [
        {
          "output_type": "execute_result",
          "data": {
            "text/plain": [
              "<function matplotlib.pyplot.figure>"
            ]
          },
          "metadata": {},
          "execution_count": 123
        },
        {
          "output_type": "display_data",
          "data": {
            "text/plain": [
              "<Figure size 432x288 with 1 Axes>"
            ],
            "image/png": "[encoded data removed]"
          },
          "metadata": {
            "needs_background": "light"
          }
        }
      ],
      "source": [
        "sns.barplot(x=\"Subgroup\", y=\"Victims_Between_14-18_Yrs\", data=df)\n",
        "plt.figure"
      ]
    },
    {
      "cell_type": "code",
      "execution_count": null,
      "metadata": {
        "execution": {
          "iopub.execute_input": "2020-10-16T04:48:33.263372Z",
          "iopub.status.busy": "2020-10-16T04:48:33.262044Z",
          "iopub.status.idle": "2020-10-16T04:48:33.546752Z",
          "shell.execute_reply": "2020-10-16T04:48:33.546083Z"
        },
        "papermill": {
          "duration": 0.345807,
          "end_time": "2020-10-16T04:48:33.546882",
          "exception": false,
          "start_time": "2020-10-16T04:48:33.201075",
          "status": "completed"
        },
        "tags": [],
        "colab": {
          "base_uri": "https://localhost:8080/",
          "height": 302
        },
        "id": "0Gl3P4AOVGFe",
        "outputId": "980e6f9b-5789-4fa5-c3ef-af6c079dd436"
      },
      "outputs": [
        {
          "output_type": "execute_result",
          "data": {
            "text/plain": [
              "<function matplotlib.pyplot.figure>"
            ]
          },
          "metadata": {},
          "execution_count": 124
        },
        {
          "output_type": "display_data",
          "data": {
            "text/plain": [
              "<Figure size 432x288 with 1 Axes>"
            ],
            "image/png": "[encoded data removed]"
          },
          "metadata": {
            "needs_background": "light"
          }
        }
      ],
      "source": [
        "sns.barplot(x=\"Subgroup\", y=\"Victims_Between_10-14_Yrs\", data=df)\n",
        "plt.figure"
      ]
    },
    {
      "cell_type": "code",
      "execution_count": null,
      "metadata": {
        "execution": {
          "iopub.execute_input": "2020-10-16T04:48:33.668356Z",
          "iopub.status.busy": "2020-10-16T04:48:33.666454Z",
          "iopub.status.idle": "2020-10-16T04:48:33.942137Z",
          "shell.execute_reply": "2020-10-16T04:48:33.941357Z"
        },
        "papermill": {
          "duration": 0.339339,
          "end_time": "2020-10-16T04:48:33.942271",
          "exception": false,
          "start_time": "2020-10-16T04:48:33.602932",
          "status": "completed"
        },
        "tags": [],
        "colab": {
          "base_uri": "https://localhost:8080/",
          "height": 302
        },
        "id": "7SU53HOxVGFf",
        "outputId": "7e521521-9271-49b9-921a-2fb2b3cf5813"
      },
      "outputs": [
        {
          "output_type": "execute_result",
          "data": {
            "text/plain": [
              "<function matplotlib.pyplot.figure>"
            ]
          },
          "metadata": {},
          "execution_count": 125
        },
        {
          "output_type": "display_data",
          "data": {
            "text/plain": [
              "<Figure size 432x288 with 1 Axes>"
            ],
            "image/png": "[encoded data removed]"
          },
          "metadata": {
            "needs_background": "light"
          }
        }
      ],
      "source": [
        "sns.barplot(x=\"Subgroup\", y=\"Victims_Upto_10_Yrs\", data=df)\n",
        "plt.figure"
      ]
    },
    {
      "cell_type": "markdown",
      "metadata": {
        "papermill": {
          "duration": 0.05797,
          "end_time": "2020-10-16T04:48:34.058410",
          "exception": false,
          "start_time": "2020-10-16T04:48:34.000440",
          "status": "completed"
        },
        "tags": [],
        "id": "4638WWB5VGFg"
      },
      "source": [
        "Total number of cases per Sub-category"
      ]
    },
    {
      "cell_type": "code",
      "execution_count": null,
      "metadata": {
        "execution": {
          "iopub.execute_input": "2020-10-16T04:48:34.198807Z",
          "iopub.status.busy": "2020-10-16T04:48:34.197766Z",
          "iopub.status.idle": "2020-10-16T04:48:34.346863Z",
          "shell.execute_reply": "2020-10-16T04:48:34.346020Z"
        },
        "papermill": {
          "duration": 0.230293,
          "end_time": "2020-10-16T04:48:34.347001",
          "exception": false,
          "start_time": "2020-10-16T04:48:34.116708",
          "status": "completed"
        },
        "tags": [],
        "colab": {
          "base_uri": "https://localhost:8080/",
          "height": 398
        },
        "id": "IN7puDtYVGFh",
        "outputId": "656a4bd9-8317-486e-d8e8-2e50747a5d4b"
      },
      "outputs": [
        {
          "output_type": "execute_result",
          "data": {
            "text/plain": [
              "<matplotlib.axes._subplots.AxesSubplot at 0x7f8e1cab8490>"
            ]
          },
          "metadata": {},
          "execution_count": 126
        },
        {
          "output_type": "display_data",
          "data": {
            "text/plain": [
              "<Figure size 432x288 with 1 Axes>"
            ],
            "image/png": "[encoded data removed]"
          },
          "metadata": {
            "needs_background": "light"
          }
        }
      ],
      "source": [
        "pd.value_counts(df['Subgroup']).plot.bar()"
      ]
    },
    {
      "cell_type": "markdown",
      "metadata": {
        "papermill": {
          "duration": 0.059596,
          "end_time": "2020-10-16T04:48:34.469592",
          "exception": false,
          "start_time": "2020-10-16T04:48:34.409996",
          "status": "completed"
        },
        "tags": [],
        "id": "9GiAiJHXVGFi"
      },
      "source": [
        "Victims of incest rape"
      ]
    },
    {
      "cell_type": "code",
      "execution_count": null,
      "metadata": {
        "execution": {
          "iopub.execute_input": "2020-10-16T04:48:34.611728Z",
          "iopub.status.busy": "2020-10-16T04:48:34.610818Z",
          "iopub.status.idle": "2020-10-16T04:48:34.774156Z",
          "shell.execute_reply": "2020-10-16T04:48:34.773521Z"
        },
        "papermill": {
          "duration": 0.245324,
          "end_time": "2020-10-16T04:48:34.774310",
          "exception": false,
          "start_time": "2020-10-16T04:48:34.528986",
          "status": "completed"
        },
        "tags": [],
        "colab": {
          "base_uri": "https://localhost:8080/",
          "height": 339
        },
        "id": "4miHVbeAVGFi",
        "outputId": "dbcdf4af-0bd8-46f2-aff7-1ef06e27a53f"
      },
      "outputs": [
        {
          "output_type": "display_data",
          "data": {
            "text/plain": [
              "<Figure size 432x288 with 1 Axes>"
            ],
            "image/png": "[encoded data removed]"
          },
          "metadata": {
            "needs_background": "light"
          }
        }
      ],
      "source": [
        "ab=df[df['Subgroup']=='Victims of Incest Rape']\n",
        "bc=df[df['Subgroup']=='Victims of Other Rape']\n",
        "\n",
        "fig = plt.figure()\n",
        "ax = fig.add_axes([0,0,1,1])\n",
        "\n",
        "Victims_above_50 = ab['Victims_Above_50_Yrs'].sum()\n",
        "Victims_30_to_50 = ab['Victims_Between_30-50_Yrs'].sum()\n",
        "Victims_18_to_38 = ab['Victims_Between_18-30_Yrs'].sum()\n",
        "Victims_14_to_18 = ab['Victims_Between_14-18_Yrs'].sum()\n",
        "Victims_10_to_14 = ab['Victims_Between_10-14_Yrs'].sum()\n",
        "Victims_upto_10 = ab['Victims_Upto_10_Yrs'].sum()\n",
        "\n",
        "Range=['Above_50','30-50','18-30','14-18','10-14','Upto_10']\n",
        "Total=[Victims_above_50,Victims_30_to_50,Victims_18_to_38,Victims_14_to_18,Victims_10_to_14,Victims_upto_10]\n",
        "\n",
        "ax.bar(Range,Total)\n",
        "plt.show()"
      ]
    },
    {
      "cell_type": "markdown",
      "metadata": {
        "papermill": {
          "duration": 0.059923,
          "end_time": "2020-10-16T04:48:34.895711",
          "exception": false,
          "start_time": "2020-10-16T04:48:34.835788",
          "status": "completed"
        },
        "tags": [],
        "id": "44cZ6uxdVGFj"
      },
      "source": [
        "Victims of other rape"
      ]
    },
    {
      "cell_type": "code",
      "execution_count": null,
      "metadata": {
        "execution": {
          "iopub.execute_input": "2020-10-16T04:48:35.040062Z",
          "iopub.status.busy": "2020-10-16T04:48:35.035516Z",
          "iopub.status.idle": "2020-10-16T04:48:35.190646Z",
          "shell.execute_reply": "2020-10-16T04:48:35.189943Z"
        },
        "papermill": {
          "duration": 0.234783,
          "end_time": "2020-10-16T04:48:35.190800",
          "exception": false,
          "start_time": "2020-10-16T04:48:34.956017",
          "status": "completed"
        },
        "tags": [],
        "colab": {
          "base_uri": "https://localhost:8080/",
          "height": 339
        },
        "id": "dYKKJ5-jVGFk",
        "outputId": "4b2fa8e0-c384-4e0a-ea6e-28be78918b3f"
      },
      "outputs": [
        {
          "output_type": "display_data",
          "data": {
            "text/plain": [
              "<Figure size 432x288 with 1 Axes>"
            ],
            "image/png": "[encoded data removed]"
          },
          "metadata": {
            "needs_background": "light"
          }
        }
      ],
      "source": [
        "fig = plt.figure()\n",
        "ax = fig.add_axes([0,0,1,1])\n",
        "\n",
        "Victims_above_50 = bc['Victims_Above_50_Yrs'].sum()\n",
        "Victims_30_to_50 = bc['Victims_Between_30-50_Yrs'].sum()\n",
        "Victims_18_to_38 = bc['Victims_Between_18-30_Yrs'].sum()\n",
        "Victims_14_to_18 = bc['Victims_Between_14-18_Yrs'].sum()\n",
        "Victims_10_to_14 = bc['Victims_Between_10-14_Yrs'].sum()\n",
        "\n",
        "Victims_upto_10 = bc['Victims_Upto_10_Yrs'].sum()\n",
        "\n",
        "Range=['Above_50','30-50','18-30','14-18','10-14','Upto_10']\n",
        "Total=[Victims_above_50,Victims_30_to_50,Victims_18_to_38,Victims_14_to_18,Victims_10_to_14,Victims_upto_10]\n",
        "\n",
        "ax.bar(Range,Total)\n",
        "plt.show()"
      ]
    },
    {
      "cell_type": "code",
      "source": [
        "#k means clustering\n",
        "%matplotlib inline\n",
        "import matplotlib.pyplot as plt\n",
        "import seaborn as sns; sns.set()\n",
        "import numpy as np\n",
        "from sklearn.cluster import KMeans\n"
      ],
      "metadata": {
        "id": "9Wb6bkVW0ixz"
      },
      "execution_count": null,
      "outputs": []
    },
    {
      "cell_type": "code",
      "source": [
        "x = df.iloc[:, [2,3]].values"
      ],
      "metadata": {
        "id": "B_KKCcisBZTS"
      },
      "execution_count": null,
      "outputs": []
    },
    {
      "cell_type": "code",
      "source": [
        "kmeans = KMeans(n_clusters=5, init='k-means++', random_state= 42)  \n",
        "y_predict= kmeans.fit_predict(x)  \n",
        "#y_predict\n",
        "df['target']=y_predict"
      ],
      "metadata": {
        "id": "fi4JkCr2_YV8"
      },
      "execution_count": null,
      "outputs": []
    },
    {
      "cell_type": "code",
      "source": [
        "df.drop(['Area_Name', 'Year'], axis = 1, inplace=True)\n",
        "X = df.drop('target', axis = 1)\n",
        "Y = df['target']\n",
        "Y"
      ],
      "metadata": {
        "colab": {
          "base_uri": "https://localhost:8080/"
        },
        "id": "TQlP8aDWFOdE",
        "outputId": "b4d59850-db74-4235-9f3f-5c1b5929d998"
      },
      "execution_count": null,
      "outputs": [
        {
          "output_type": "execute_result",
          "data": {
            "text/plain": [
              "0       0\n",
              "1       0\n",
              "2       0\n",
              "3       0\n",
              "4       0\n",
              "       ..\n",
              "3110    0\n",
              "3111    0\n",
              "3112    0\n",
              "3113    0\n",
              "3114    0\n",
              "Name: target, Length: 3115, dtype: int32"
            ]
          },
          "metadata": {},
          "execution_count": 132
        }
      ]
    },
    {
      "cell_type": "code",
      "source": [
        ""
      ],
      "metadata": {
        "id": "SEnIHywxHE50"
      },
      "execution_count": null,
      "outputs": []
    }
  ],
  "metadata": {
    "kernelspec": {
      "display_name": "Python 3",
      "language": "python",
      "name": "python3"
    },
    "language_info": {
      "codemirror_mode": {
        "name": "ipython",
        "version": 3
      },
      "file_extension": ".py",
      "mimetype": "text/x-python",
      "name": "python",
      "nbconvert_exporter": "python",
      "pygments_lexer": "ipython3",
      "version": "3.7.6"
    },
    "papermill": {
      "duration": 19.190057,
      "end_time": "2020-10-16T04:48:40.547849",
      "environment_variables": {},
      "exception": null,
      "input_path": "__notebook__.ipynb",
      "output_path": "__notebook__.ipynb",
      "parameters": {},
      "start_time": "2020-10-16T04:48:21.357792",
      "version": "2.1.0"
    },
    "colab": {
      "name": "crimes-in-india-analysis.ipynb",
      "provenance": [],
      "collapsed_sections": []
    }
  },
  "nbformat": 4,
  "nbformat_minor": 0
}